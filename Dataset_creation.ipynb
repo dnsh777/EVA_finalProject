{
  "nbformat": 4,
  "nbformat_minor": 0,
  "metadata": {
    "kernelspec": {
      "display_name": "Python 3",
      "language": "python",
      "name": "python3"
    },
    "language_info": {
      "codemirror_mode": {
        "name": "ipython",
        "version": 3
      },
      "file_extension": ".py",
      "mimetype": "text/x-python",
      "name": "python",
      "nbconvert_exporter": "python",
      "pygments_lexer": "ipython3",
      "version": "3.7.3"
    },
    "colab": {
      "name": "Dataset creation.ipynb",
      "provenance": [],
      "toc_visible": true,
      "include_colab_link": true
    }
  },
  "cells": [
    {
      "cell_type": "markdown",
      "metadata": {
        "id": "view-in-github",
        "colab_type": "text"
      },
      "source": [
        "<a href=\"https://colab.research.google.com/github/siva-sankar-a/eva_final_project/blob/master/Dataset_creation.ipynb\" target=\"_parent\"><img src=\"https://colab.research.google.com/assets/colab-badge.svg\" alt=\"Open In Colab\"/></a>"
      ]
    },
    {
      "cell_type": "code",
      "metadata": {
        "id": "05BUFPL5-6QZ",
        "colab_type": "code",
        "colab": {
          "base_uri": "https://localhost:8080/",
          "height": 127
        },
        "outputId": "f4d0f1ef-a3bc-4bbb-bb55-cff4fb50d386"
      },
      "source": [
        "from google.colab import drive\n",
        "drive.mount('/content/drive')"
      ],
      "execution_count": 1,
      "outputs": [
        {
          "output_type": "stream",
          "text": [
            "Go to this URL in a browser: https://accounts.google.com/o/oauth2/auth?client_id=947318989803-6bn6qk8qdgf4n4g3pfee6491hc0brc4i.apps.googleusercontent.com&redirect_uri=urn%3aietf%3awg%3aoauth%3a2.0%3aoob&response_type=code&scope=email%20https%3a%2f%2fwww.googleapis.com%2fauth%2fdocs.test%20https%3a%2f%2fwww.googleapis.com%2fauth%2fdrive%20https%3a%2f%2fwww.googleapis.com%2fauth%2fdrive.photos.readonly%20https%3a%2f%2fwww.googleapis.com%2fauth%2fpeopleapi.readonly\n",
            "\n",
            "Enter your authorization code:\n",
            "··········\n",
            "Mounted at /content/drive\n"
          ],
          "name": "stdout"
        }
      ]
    },
    {
      "cell_type": "code",
      "metadata": {
        "id": "eLJCcL_0-viw",
        "colab_type": "code",
        "colab": {}
      },
      "source": [
        "import glob\n",
        "import cv2\n",
        "import os\n",
        "import shutil\n",
        "import numpy as np\n",
        "import pandas as pd"
      ],
      "execution_count": 0,
      "outputs": []
    },
    {
      "cell_type": "code",
      "metadata": {
        "id": "AVdOrWeC-vi1",
        "colab_type": "code",
        "colab": {}
      },
      "source": [
        "root_dir = '/content/drive/My Drive/eva_final_data'\n",
        "\n",
        "bg_folder_raw = os.path.join(root_dir, 'bg_raw')\n",
        "bg_folder_selected = os.path.join(root_dir, 'bg_selected')\n",
        "mask_folder_selected = os.path.join(root_dir, 'mask_selected')\n",
        "fg_folder_selected = os.path.join(root_dir, 'fg_selected')\n",
        "bg_folder_cropped = os.path.join(root_dir, 'bg_cropped')\n",
        "fg_folder_cropped = os.path.join(root_dir, 'fg_cropped')\n",
        "mask_folder_cropped = os.path.join(root_dir, 'mask_cropped')\n",
        "\n",
        "mask_folder = os.path.join(root_dir, 'mask')\n",
        "fg_bg_folder = os.path.join(root_dir, 'fg_bg')\n",
        "\n",
        "dataset_dirs = [bg_folder_raw, bg_folder_selected, mask_folder_selected, fg_folder_selected, bg_folder_cropped,\n",
        "               fg_folder_cropped, mask_folder_cropped, mask_folder, fg_bg_folder]\n",
        "\n",
        "for dataset_dir in dataset_dirs: \n",
        "    if not os.path.exists(dataset_dir):\n",
        "        os.mkdir(dataset_dir)\n",
        "\n",
        "H = 224\n",
        "W = 224\n",
        "\n",
        "_W = 80\n",
        "_H = 70"
      ],
      "execution_count": 0,
      "outputs": []
    },
    {
      "cell_type": "markdown",
      "metadata": {
        "id": "QZUTbRl9-vi6",
        "colab_type": "text"
      },
      "source": [
        "### Copy selected background images to bg_selected folder"
      ]
    },
    {
      "cell_type": "code",
      "metadata": {
        "id": "3q85GAnx-vi7",
        "colab_type": "code",
        "colab": {}
      },
      "source": [
        "paths = glob.glob(f'{bg_folder_raw}/*.*')\n",
        "\n",
        "selected_paths = []\n",
        "for idx, path in enumerate(paths):\n",
        "    img = cv2.imread(path)\n",
        "    h, w, c = img.shape\n",
        "    if h > H and w > W:\n",
        "        selected_paths.append(path)\n",
        "\n",
        "for idx, selected_path in enumerate(selected_paths):\n",
        "    shutil.copy(selected_path, f'{bg_folder_selected}/img_{idx:03d}.png')"
      ],
      "execution_count": 0,
      "outputs": []
    },
    {
      "cell_type": "markdown",
      "metadata": {
        "id": "ZLRFIm5k-vi_",
        "colab_type": "text"
      },
      "source": [
        "### Segregate mask and foreground images into mask_selected and fg_selected images"
      ]
    },
    {
      "cell_type": "code",
      "metadata": {
        "id": "-bKPjoL_-vjA",
        "colab_type": "code",
        "colab": {}
      },
      "source": [
        "paths = glob.glob(os.path.join(root_dir, 'no_bkg_and_mask') + '/*.*')\n",
        "for path in paths:\n",
        "    base_name = os.path.basename(path)\n",
        "    if '_m' in base_name:\n",
        "        actual_basename = base_name.replace('_m', '')\n",
        "        shutil.copy(path, os.path.join(mask_folder_selected, actual_basename))\n",
        "    else:\n",
        "        actual_basename = base_name\n",
        "        shutil.copy(path, os.path.join(fg_folder_selected, actual_basename))"
      ],
      "execution_count": 0,
      "outputs": []
    },
    {
      "cell_type": "markdown",
      "metadata": {
        "id": "ky4duTdP-vjE",
        "colab_type": "text"
      },
      "source": [
        "### Resize images to 224, 224\n",
        "\n",
        "Since the images selected are of very high resolution and cropping them makes them loose perspective data which results in bad disparity maps, they were resized"
      ]
    },
    {
      "cell_type": "code",
      "metadata": {
        "id": "cWXknoUI-vjF",
        "colab_type": "code",
        "colab": {}
      },
      "source": [
        "paths = glob.glob(f'{bg_folder_selected}/*.*')\n",
        "for idx, path in enumerate(paths):\n",
        "    base_name = os.path.basename(path)\n",
        "    img = cv2.imread(path, cv2.IMREAD_UNCHANGED)\n",
        "    h, w, c = img.shape\n",
        "    \n",
        "    if c == 3:\n",
        "        b, g, r = cv2.split(img)\n",
        "        a = np.ones((h, w), dtype=b.dtype) * 255\n",
        "        img = cv2.merge((b, g, r, a))\n",
        "    \n",
        "    dst = cv2.resize(img, dsize=(H, W), interpolation=cv2.INTER_CUBIC)\n",
        "    \n",
        "    path_to_cropped_img = os.path.join(fg_folder_selected, base_name)\n",
        "    cv2.imwrite(f'{bg_folder_cropped}/img_{idx:03d}.png', dst)"
      ],
      "execution_count": 0,
      "outputs": []
    },
    {
      "cell_type": "markdown",
      "metadata": {
        "id": "_EkGeo1e-vjJ",
        "colab_type": "text"
      },
      "source": [
        "### Finding average size of foreground images"
      ]
    },
    {
      "cell_type": "code",
      "metadata": {
        "id": "EZZYm36l-vjK",
        "colab_type": "code",
        "colab": {
          "base_uri": "https://localhost:8080/",
          "height": 35
        },
        "outputId": "eee1d253-19ae-4c49-d647-5281431a2ac3"
      },
      "source": [
        "paths = glob.glob(f'{fg_folder_selected}/*.*')\n",
        "\n",
        "img_shapes = []\n",
        "for idx, path in enumerate(paths):\n",
        "    img = cv2.imread(path)\n",
        "    img_shapes.append(img.shape)\n",
        "\n",
        "np.stack(pd.Series(img_shapes).apply(list).values).mean(axis=0) / 10"
      ],
      "execution_count": 37,
      "outputs": [
        {
          "output_type": "execute_result",
          "data": {
            "text/plain": [
              "array([73.775, 84.035,  0.3  ])"
            ]
          },
          "metadata": {
            "tags": []
          },
          "execution_count": 37
        }
      ]
    },
    {
      "cell_type": "markdown",
      "metadata": {
        "id": "a7mt4Yyy-vjP",
        "colab_type": "text"
      },
      "source": [
        "### Resize foreground images to 70 X 80 and dump it to foreground_cropped folder"
      ]
    },
    {
      "cell_type": "code",
      "metadata": {
        "id": "aKGKGRaG-vjQ",
        "colab_type": "code",
        "colab": {}
      },
      "source": [
        "paths = glob.glob(f'{fg_folder_selected}/*.*')\n",
        "for idx, path in enumerate(paths):\n",
        "    base_name = os.path.basename(path)\n",
        "    img = cv2.imread(path, cv2.IMREAD_UNCHANGED)\n",
        "    h, w, c = img.shape\n",
        "\n",
        "    if c == 3:\n",
        "        b, g, r = cv2.split(img)\n",
        "        a = np.ones((h, w), dtype=b.dtype) * 255\n",
        "        img = cv2.merge((b, g, r, a))\n",
        "        \n",
        "    dst = cv2.resize(img, dsize=(_W, _H), interpolation=cv2.INTER_CUBIC)\n",
        "    \n",
        "    path_to_cropped_img = os.path.join(fg_folder_cropped, base_name)\n",
        "    cv2.imwrite(path_to_cropped_img, dst)"
      ],
      "execution_count": 0,
      "outputs": []
    },
    {
      "cell_type": "markdown",
      "metadata": {
        "id": "mW9kLq8u-vjU",
        "colab_type": "text"
      },
      "source": [
        "### Resize mask images to 70 X 80 and dump it to mask_cropped folder"
      ]
    },
    {
      "cell_type": "code",
      "metadata": {
        "id": "Bl7kOtRl-vjV",
        "colab_type": "code",
        "colab": {}
      },
      "source": [
        "paths = glob.glob(f'{mask_folder_selected}/*.*')\n",
        "for idx, path in enumerate(paths):\n",
        "    base_name = os.path.basename(path)\n",
        "    img = cv2.imread(path, cv2.IMREAD_UNCHANGED)\n",
        "    h, w, c = img.shape\n",
        "    \n",
        "    if c == 3:\n",
        "        b, g, r = cv2.split(img)\n",
        "        a = np.ones((h, w), dtype=b.dtype) * 255\n",
        "        img = cv2.merge((b, g, r, a))\n",
        "\n",
        "    dst = cv2.resize(img, dsize=(_W, _H), interpolation=cv2.INTER_CUBIC)\n",
        "    \n",
        "    path_to_cropped_img = os.path.join(mask_folder_cropped, base_name)\n",
        "    cv2.imwrite(path_to_cropped_img, dst)"
      ],
      "execution_count": 0,
      "outputs": []
    },
    {
      "cell_type": "markdown",
      "metadata": {
        "id": "IiHHaNkV-vjZ",
        "colab_type": "text"
      },
      "source": [
        "# Dataset Generation"
      ]
    },
    {
      "cell_type": "code",
      "metadata": {
        "id": "6eq9FglC-vjZ",
        "colab_type": "code",
        "colab": {}
      },
      "source": [
        "fg_paths = glob.glob(f'{fg_folder_cropped}/*.*')\n",
        "cropped_mask_paths = glob.glob(f'{mask_folder_cropped}/*.*')\n",
        "bg_paths = glob.glob(f'{bg_folder_cropped}/*.*')"
      ],
      "execution_count": 0,
      "outputs": []
    },
    {
      "cell_type": "code",
      "metadata": {
        "id": "Z6RA5dO6-vjf",
        "colab_type": "code",
        "colab": {}
      },
      "source": [
        "# Set compression level and number of random placements for each foreground background pair\n",
        "compression_level = 75\n",
        "number_of_random_placements = 20"
      ],
      "execution_count": 0,
      "outputs": []
    },
    {
      "cell_type": "code",
      "metadata": {
        "id": "XOsqOfxi-vjj",
        "colab_type": "code",
        "colab": {}
      },
      "source": [
        "fg_bg_paths = []\n",
        "mask_paths = []"
      ],
      "execution_count": 0,
      "outputs": []
    },
    {
      "cell_type": "code",
      "metadata": {
        "id": "6muep2XW-vjn",
        "colab_type": "code",
        "colab": {}
      },
      "source": [
        "## Iterate through all backgrounds\n",
        "for bg_path in bg_paths:\n",
        "    bg_img = cv2.imread(bg_path, cv2.IMREAD_UNCHANGED)\n",
        "    i = 0\n",
        "    \n",
        "    ## Iterate through all foregrounds\n",
        "    for fg_path in fg_paths:\n",
        "        fg_base_name = os.path.basename(fg_path)\n",
        "        mask_path = os.path.join(mask_folder_cropped, fg_base_name)\n",
        "        \n",
        "        ## If mask is found\n",
        "        if mask_path in cropped_mask_paths:\n",
        "            fg_img = cv2.imread(fg_path, cv2.IMREAD_UNCHANGED)\n",
        "            mask_img = cv2.imread(mask_path, cv2.IMREAD_UNCHANGED)\n",
        "            \n",
        "            ## Iterate through all random placement possibilities\n",
        "            for _ in range(number_of_random_placements):\n",
        "                \n",
        "                ## Randomly place fg on bg\n",
        "                r_min = 0\n",
        "                r_max = H - _H\n",
        "\n",
        "                c_min = 0\n",
        "                c_max = W - _W\n",
        "\n",
        "                r = np.random.randint(r_min, r_max)\n",
        "                c = np.random.randint(c_min, c_max)\n",
        "\n",
        "                random_mask_img = np.zeros_like(bg_img, dtype=bg_img.dtype)\n",
        "                random_mask_img[:, :, 3].fill(255)\n",
        "\n",
        "                random_fg_img = np.zeros_like(bg_img, dtype=bg_img.dtype)\n",
        "                random_fg_img[:, :, 3].fill(255)\n",
        "\n",
        "                random_mask_img[r: r + _H, c: c + _W] += mask_img\n",
        "                random_fg_img[r: r + _H, c: c + _W] += fg_img\n",
        "                \n",
        "                random_mask_img = cv2.cvtColor(random_mask_img, cv2.COLOR_BGRA2GRAY)\n",
        "                random_bg_img = cv2.bitwise_and(bg_img, bg_img, mask=cv2.bitwise_not(random_mask_img))\n",
        "                random_bg_img += random_fg_img\n",
        "                \n",
        "                random_bg_img = cv2.cvtColor(random_bg_img, cv2.COLOR_BGRA2BGR)\n",
        "                \n",
        "                fg_bg_path = f'{fg_bg_folder}/img_{i:08d}.jpg'\n",
        "                mask_path = f'{mask_folder}/img_{i:08d}.jpg'\n",
        "                \n",
        "                cv2.imwrite(mask_path, random_mask_img, [int(cv2.IMWRITE_JPEG_QUALITY), compression_level])\n",
        "                cv2.imwrite(fg_bg_path, random_bg_img,  [int(cv2.IMWRITE_JPEG_QUALITY), compression_level])\n",
        "                \n",
        "                fg_bg_paths.append(fg_bg_path)\n",
        "                mask_paths.append(mask_path)\n",
        "                \n",
        "                i += 1\n",
        "                \n",
        "                ## Flip the image and mask\n",
        "                fg_img = cv2.flip(fg_img, 1)\n",
        "                mask_img = cv2.flip(mask_img, 1)\n",
        "\n",
        "                ## Randomly place fg on bg\n",
        "                r_min = 0\n",
        "                r_max = H - _H\n",
        "\n",
        "                c_min = 0\n",
        "                c_max = W - _W\n",
        "\n",
        "                r = np.random.randint(r_min, r_max)\n",
        "                c = np.random.randint(c_min, c_max)\n",
        "\n",
        "                random_mask_img = np.zeros_like(bg_img, dtype=bg_img.dtype)\n",
        "                random_mask_img[:, :, 3].fill(255)\n",
        "\n",
        "                random_fg_img = np.zeros_like(bg_img, dtype=bg_img.dtype)\n",
        "                random_fg_img[:, :, 3].fill(255)\n",
        "\n",
        "                random_mask_img[r: r + _H, c: c + _W] += mask_img\n",
        "                random_fg_img[r: r + _H, c: c + _W] += fg_img\n",
        "\n",
        "                random_mask_img = cv2.cvtColor(random_mask_img, cv2.COLOR_BGRA2GRAY)\n",
        "                random_bg_img = cv2.bitwise_and(bg_img, bg_img, mask=cv2.bitwise_not(random_mask_img))\n",
        "                random_bg_img += random_fg_img\n",
        "\n",
        "                random_bg_img = cv2.cvtColor(random_bg_img, cv2.COLOR_BGRA2BGR)\n",
        "                \n",
        "                fg_bg_path = f'{fg_bg_folder}/img_{i:08d}.jpg'\n",
        "                mask_path = f'{mask_folder}/img_{i:08d}.jpg'\n",
        "                \n",
        "                cv2.imwrite(mask_path, random_mask_img, [int(cv2.IMWRITE_JPEG_QUALITY), compression_level])\n",
        "                cv2.imwrite(fg_bg_path, random_bg_img,  [int(cv2.IMWRITE_JPEG_QUALITY), compression_level])\n",
        "                \n",
        "                fg_bg_paths.append(fg_bg_path)\n",
        "                mask_paths.append(mask_path)\n",
        "                \n",
        "                i += 1"
      ],
      "execution_count": 0,
      "outputs": []
    },
    {
      "cell_type": "code",
      "metadata": {
        "id": "0O0lW6QM-vjq",
        "colab_type": "code",
        "colab": {}
      },
      "source": [
        "df = pd.DataFrame({'fg_bg_paths': fg_bg_paths, 'mask_paths': mask_paths})\n",
        "df.to_csv('file_info.csv', index=False)"
      ],
      "execution_count": 0,
      "outputs": []
    }
  ]
}