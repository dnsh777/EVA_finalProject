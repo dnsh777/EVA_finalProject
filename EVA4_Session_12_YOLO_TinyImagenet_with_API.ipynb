{
  "nbformat": 4,
  "nbformat_minor": 0,
  "metadata": {
    "colab": {
      "name": "EVA4_Session_12_YOLO_TinyImagenet_with_API.ipynb",
      "provenance": [],
      "collapsed_sections": [],
      "toc_visible": true,
      "include_colab_link": true
    },
    "kernelspec": {
      "name": "python3",
      "display_name": "Python 3"
    },
    "accelerator": "GPU"
  },
  "cells": [
    {
      "cell_type": "markdown",
      "metadata": {
        "id": "view-in-github",
        "colab_type": "text"
      },
      "source": [
        "<a href=\"https://colab.research.google.com/github/siva-sankar-a/eva/blob/master/S12/EVA4_Session_12_YOLO_TinyImagenet_with_API.ipynb\" target=\"_parent\"><img src=\"https://colab.research.google.com/assets/colab-badge.svg\" alt=\"Open In Colab\"/></a>"
      ]
    },
    {
      "cell_type": "markdown",
      "metadata": {
        "id": "4NrW-L2PWwQg",
        "colab_type": "text"
      },
      "source": [
        "# S12 _Assignment 12_\n",
        "\n",
        "  | Summary of overall targets |  |\n",
        "  | - | - |\n",
        "  | _Dataset_| **Tiny Imagenet** |\n",
        "  | _Max. number of epochs_| **50** |\n",
        "  | _Max. number of parameters_| **NA** |\n",
        "  | _Architecture_| **ResNet - Custom Architecture** |\n",
        "  | _Target accurracy_| **50%** |\n"
      ]
    },
    {
      "cell_type": "markdown",
      "metadata": {
        "id": "FQkGa6QJTsbN",
        "colab_type": "text"
      },
      "source": [
        "# Implementation"
      ]
    },
    {
      "cell_type": "markdown",
      "metadata": {
        "id": "kdw-uW6B_7fe",
        "colab_type": "text"
      },
      "source": [
        "## Initialization"
      ]
    },
    {
      "cell_type": "markdown",
      "metadata": {
        "id": "syKENGMM_cY8",
        "colab_type": "text"
      },
      "source": [
        "### Mounting google drive to save results"
      ]
    },
    {
      "cell_type": "code",
      "metadata": {
        "id": "w-ScTYBE1lnh",
        "colab_type": "code",
        "outputId": "61ed9d27-b930-46ee-f5bc-cb9bf8037218",
        "colab": {
          "base_uri": "https://localhost:8080/",
          "height": 127
        }
      },
      "source": [
        "from google.colab import drive\n",
        "drive.mount('/content/drive')"
      ],
      "execution_count": 1,
      "outputs": [
        {
          "output_type": "stream",
          "text": [
            "Go to this URL in a browser: https://accounts.google.com/o/oauth2/auth?client_id=947318989803-6bn6qk8qdgf4n4g3pfee6491hc0brc4i.apps.googleusercontent.com&redirect_uri=urn%3aietf%3awg%3aoauth%3a2.0%3aoob&response_type=code&scope=email%20https%3a%2f%2fwww.googleapis.com%2fauth%2fdocs.test%20https%3a%2f%2fwww.googleapis.com%2fauth%2fdrive%20https%3a%2f%2fwww.googleapis.com%2fauth%2fdrive.photos.readonly%20https%3a%2f%2fwww.googleapis.com%2fauth%2fpeopleapi.readonly\n",
            "\n",
            "Enter your authorization code:\n",
            "··········\n",
            "Mounted at /content/drive\n"
          ],
          "name": "stdout"
        }
      ]
    },
    {
      "cell_type": "code",
      "metadata": {
        "id": "T5Jnq-ucd0Qt",
        "colab_type": "code",
        "outputId": "7bfc8379-63fe-4725-94dd-b4ac5f21cb65",
        "colab": {
          "base_uri": "https://localhost:8080/",
          "height": 955
        }
      },
      "source": [
        "!pip install torchsummary\n",
        "!pip install torchviz\n",
        "!pip install -U git+https://github.com/albu/albumentations --no-cache-dir"
      ],
      "execution_count": 2,
      "outputs": [
        {
          "output_type": "stream",
          "text": [
            "Requirement already satisfied: torchsummary in /usr/local/lib/python3.6/dist-packages (1.5.1)\n",
            "Collecting torchviz\n",
            "\u001b[?25l  Downloading https://files.pythonhosted.org/packages/8f/8e/a9630c7786b846d08b47714dd363a051f5e37b4ea0e534460d8cdfc1644b/torchviz-0.0.1.tar.gz (41kB)\n",
            "\u001b[K     |████████████████████████████████| 51kB 5.3MB/s \n",
            "\u001b[?25hRequirement already satisfied: torch in /usr/local/lib/python3.6/dist-packages (from torchviz) (1.4.0)\n",
            "Requirement already satisfied: graphviz in /usr/local/lib/python3.6/dist-packages (from torchviz) (0.10.1)\n",
            "Building wheels for collected packages: torchviz\n",
            "  Building wheel for torchviz (setup.py) ... \u001b[?25l\u001b[?25hdone\n",
            "  Created wheel for torchviz: filename=torchviz-0.0.1-cp36-none-any.whl size=3523 sha256=300b0b46b947afdef7d51edc6c135d9080180c204dc87a2cc37591f1a8b033de\n",
            "  Stored in directory: /root/.cache/pip/wheels/2a/c2/c5/b8b4d0f7992c735f6db5bfa3c5f354cf36502037ca2b585667\n",
            "Successfully built torchviz\n",
            "Installing collected packages: torchviz\n",
            "Successfully installed torchviz-0.0.1\n",
            "Collecting git+https://github.com/albu/albumentations\n",
            "  Cloning https://github.com/albu/albumentations to /tmp/pip-req-build-en_nrs5j\n",
            "  Running command git clone -q https://github.com/albu/albumentations /tmp/pip-req-build-en_nrs5j\n",
            "Requirement already satisfied, skipping upgrade: numpy>=1.11.1 in /usr/local/lib/python3.6/dist-packages (from albumentations==0.4.5) (1.18.2)\n",
            "Requirement already satisfied, skipping upgrade: scipy in /usr/local/lib/python3.6/dist-packages (from albumentations==0.4.5) (1.4.1)\n",
            "Collecting imgaug<0.2.7,>=0.2.5\n",
            "\u001b[?25l  Downloading https://files.pythonhosted.org/packages/ad/2e/748dbb7bb52ec8667098bae9b585f448569ae520031932687761165419a2/imgaug-0.2.6.tar.gz (631kB)\n",
            "\u001b[K     |████████████████████████████████| 634kB 8.8MB/s \n",
            "\u001b[?25hRequirement already satisfied, skipping upgrade: PyYAML in /usr/local/lib/python3.6/dist-packages (from albumentations==0.4.5) (3.13)\n",
            "Requirement already satisfied, skipping upgrade: opencv-python>=4.1.1 in /usr/local/lib/python3.6/dist-packages (from albumentations==0.4.5) (4.1.2.30)\n",
            "Requirement already satisfied, skipping upgrade: scikit-image>=0.11.0 in /usr/local/lib/python3.6/dist-packages (from imgaug<0.2.7,>=0.2.5->albumentations==0.4.5) (0.16.2)\n",
            "Requirement already satisfied, skipping upgrade: six in /usr/local/lib/python3.6/dist-packages (from imgaug<0.2.7,>=0.2.5->albumentations==0.4.5) (1.12.0)\n",
            "Requirement already satisfied, skipping upgrade: PyWavelets>=0.4.0 in /usr/local/lib/python3.6/dist-packages (from scikit-image>=0.11.0->imgaug<0.2.7,>=0.2.5->albumentations==0.4.5) (1.1.1)\n",
            "Requirement already satisfied, skipping upgrade: matplotlib!=3.0.0,>=2.0.0 in /usr/local/lib/python3.6/dist-packages (from scikit-image>=0.11.0->imgaug<0.2.7,>=0.2.5->albumentations==0.4.5) (3.2.1)\n",
            "Requirement already satisfied, skipping upgrade: pillow>=4.3.0 in /usr/local/lib/python3.6/dist-packages (from scikit-image>=0.11.0->imgaug<0.2.7,>=0.2.5->albumentations==0.4.5) (7.0.0)\n",
            "Requirement already satisfied, skipping upgrade: networkx>=2.0 in /usr/local/lib/python3.6/dist-packages (from scikit-image>=0.11.0->imgaug<0.2.7,>=0.2.5->albumentations==0.4.5) (2.4)\n",
            "Requirement already satisfied, skipping upgrade: imageio>=2.3.0 in /usr/local/lib/python3.6/dist-packages (from scikit-image>=0.11.0->imgaug<0.2.7,>=0.2.5->albumentations==0.4.5) (2.4.1)\n",
            "Requirement already satisfied, skipping upgrade: cycler>=0.10 in /usr/local/lib/python3.6/dist-packages (from matplotlib!=3.0.0,>=2.0.0->scikit-image>=0.11.0->imgaug<0.2.7,>=0.2.5->albumentations==0.4.5) (0.10.0)\n",
            "Requirement already satisfied, skipping upgrade: kiwisolver>=1.0.1 in /usr/local/lib/python3.6/dist-packages (from matplotlib!=3.0.0,>=2.0.0->scikit-image>=0.11.0->imgaug<0.2.7,>=0.2.5->albumentations==0.4.5) (1.2.0)\n",
            "Requirement already satisfied, skipping upgrade: pyparsing!=2.0.4,!=2.1.2,!=2.1.6,>=2.0.1 in /usr/local/lib/python3.6/dist-packages (from matplotlib!=3.0.0,>=2.0.0->scikit-image>=0.11.0->imgaug<0.2.7,>=0.2.5->albumentations==0.4.5) (2.4.7)\n",
            "Requirement already satisfied, skipping upgrade: python-dateutil>=2.1 in /usr/local/lib/python3.6/dist-packages (from matplotlib!=3.0.0,>=2.0.0->scikit-image>=0.11.0->imgaug<0.2.7,>=0.2.5->albumentations==0.4.5) (2.8.1)\n",
            "Requirement already satisfied, skipping upgrade: decorator>=4.3.0 in /usr/local/lib/python3.6/dist-packages (from networkx>=2.0->scikit-image>=0.11.0->imgaug<0.2.7,>=0.2.5->albumentations==0.4.5) (4.4.2)\n",
            "Building wheels for collected packages: albumentations, imgaug\n",
            "  Building wheel for albumentations (setup.py) ... \u001b[?25l\u001b[?25hdone\n",
            "  Created wheel for albumentations: filename=albumentations-0.4.5-cp36-none-any.whl size=65099 sha256=26e2dbb495861dc8b0d271277bab387db6c00ee1d0cb64acd2ebe50f3dfece56\n",
            "  Stored in directory: /tmp/pip-ephem-wheel-cache-n_tzmvtd/wheels/45/8b/e4/2837bbcf517d00732b8e394f8646f22b8723ac00993230188b\n",
            "  Building wheel for imgaug (setup.py) ... \u001b[?25l\u001b[?25hdone\n",
            "  Created wheel for imgaug: filename=imgaug-0.2.6-cp36-none-any.whl size=654020 sha256=1073c06e2fcaa963b3a368355c494fbc145c3c9f439595e44e921e0bc86a022b\n",
            "  Stored in directory: /tmp/pip-ephem-wheel-cache-n_tzmvtd/wheels/97/ec/48/0d25896c417b715af6236dbcef8f0bed136a1a5e52972fc6d0\n",
            "Successfully built albumentations imgaug\n",
            "Installing collected packages: imgaug, albumentations\n",
            "  Found existing installation: imgaug 0.2.9\n",
            "    Uninstalling imgaug-0.2.9:\n",
            "      Successfully uninstalled imgaug-0.2.9\n",
            "  Found existing installation: albumentations 0.1.12\n",
            "    Uninstalling albumentations-0.1.12:\n",
            "      Successfully uninstalled albumentations-0.1.12\n",
            "Successfully installed albumentations-0.4.5 imgaug-0.2.6\n"
          ],
          "name": "stdout"
        }
      ]
    },
    {
      "cell_type": "code",
      "metadata": {
        "id": "BGhaEgPxdklr",
        "colab_type": "code",
        "colab": {
          "base_uri": "https://localhost:8080/",
          "height": 215
        },
        "outputId": "76f201ed-d472-4901-ad2e-2cdf07f4e78f"
      },
      "source": [
        "!wget \"http://cs231n.stanford.edu/tiny-imagenet-200.zip\"\n",
        "!unzip -qq \"./tiny-imagenet-200.zip\""
      ],
      "execution_count": 3,
      "outputs": [
        {
          "output_type": "stream",
          "text": [
            "--2020-04-19 15:25:12--  http://cs231n.stanford.edu/tiny-imagenet-200.zip\n",
            "Resolving cs231n.stanford.edu (cs231n.stanford.edu)... 171.64.68.10\n",
            "Connecting to cs231n.stanford.edu (cs231n.stanford.edu)|171.64.68.10|:80... connected.\n",
            "HTTP request sent, awaiting response... 200 OK\n",
            "Length: 248100043 (237M) [application/zip]\n",
            "Saving to: ‘tiny-imagenet-200.zip’\n",
            "\n",
            "tiny-imagenet-200.z 100%[===================>] 236.61M  18.9MB/s    in 15s     \n",
            "\n",
            "2020-04-19 15:25:28 (15.6 MB/s) - ‘tiny-imagenet-200.zip’ saved [248100043/248100043]\n",
            "\n"
          ],
          "name": "stdout"
        }
      ]
    },
    {
      "cell_type": "code",
      "metadata": {
        "id": "5y9JZvj5d3iy",
        "colab_type": "code",
        "colab": {
          "base_uri": "https://localhost:8080/",
          "height": 143
        },
        "outputId": "2571d150-bc13-46bd-a090-9b595e5c3523"
      },
      "source": [
        "!rm -rf eva\n",
        "!git clone \"https://github.com/siva-sankar-a/eva.git\""
      ],
      "execution_count": 4,
      "outputs": [
        {
          "output_type": "stream",
          "text": [
            "Cloning into 'eva'...\n",
            "remote: Enumerating objects: 8, done.\u001b[K\n",
            "remote: Counting objects:  12% (1/8)\u001b[K\rremote: Counting objects:  25% (2/8)\u001b[K\rremote: Counting objects:  37% (3/8)\u001b[K\rremote: Counting objects:  50% (4/8)\u001b[K\rremote: Counting objects:  62% (5/8)\u001b[K\rremote: Counting objects:  75% (6/8)\u001b[K\rremote: Counting objects:  87% (7/8)\u001b[K\rremote: Counting objects: 100% (8/8)\u001b[K\rremote: Counting objects: 100% (8/8), done.\u001b[K\n",
            "remote: Compressing objects: 100% (8/8), done.\u001b[K\n",
            "remote: Total 639 (delta 2), reused 3 (delta 0), pack-reused 631\u001b[K\n",
            "Receiving objects: 100% (639/639), 8.49 MiB | 10.95 MiB/s, done.\n",
            "Resolving deltas: 100% (349/349), done.\n"
          ],
          "name": "stdout"
        }
      ]
    },
    {
      "cell_type": "code",
      "metadata": {
        "id": "s4lKZZ0aeCpK",
        "colab_type": "code",
        "colab": {
          "base_uri": "https://localhost:8080/",
          "height": 53
        },
        "outputId": "0fad8606-4489-480e-b04e-c9d46409fdba"
      },
      "source": [
        "%load_ext autoreload\n",
        "%autoreload 2\n",
        "from eva.S12.api import Experiment\n",
        "from eva.S12.data_manager.data_manager_albumentations import  DataManager\n",
        "from eva.S12.viz import viz_cifar10_grid_\n",
        "from eva.S12.utils import textual_summary_tiny_imagenet, graphical_summary_tiny_imagenet\n",
        "from eva.S12.settings import cifar10_classes\n",
        "from eva.S12.models.model_s11 import Net\n",
        "from eva.S12.grad_cam.grad_cam import GradCam\n",
        "from eva.S12.lr_range_finder.lr_finder import LRFinder"
      ],
      "execution_count": 5,
      "outputs": [
        {
          "output_type": "stream",
          "text": [
            "WARNING:eva.S12.lr_range_finder.lr_finder:To enable mixed precision training, please install `apex`. Or you can re-install this package by the following command:\n",
            "  pip install torch-lr-finder -v --global-option=\"amp\"\n"
          ],
          "name": "stderr"
        }
      ]
    },
    {
      "cell_type": "code",
      "metadata": {
        "id": "70tWUZP-riqm",
        "colab_type": "code",
        "colab": {}
      },
      "source": [
        "import glob\n",
        "import tensorflow as tf\n",
        "import matplotlib.pyplot as plt"
      ],
      "execution_count": 0,
      "outputs": []
    },
    {
      "cell_type": "code",
      "metadata": {
        "id": "7pOL5Fx3uN_f",
        "colab_type": "code",
        "colab": {}
      },
      "source": [
        "import torch\n",
        "import torchvision\n",
        "import numpy as np\n",
        "\n",
        "from torch.nn import functional as F\n",
        "import cv2"
      ],
      "execution_count": 0,
      "outputs": []
    },
    {
      "cell_type": "markdown",
      "metadata": {
        "id": "o-C6HlasfO11",
        "colab_type": "text"
      },
      "source": [
        "# LR range test"
      ]
    },
    {
      "cell_type": "code",
      "metadata": {
        "id": "HjhX8DOHb9x2",
        "colab_type": "code",
        "colab": {}
      },
      "source": [
        "momentum = 0.9\n",
        "weight_decay = 0.01\n",
        "max_lr = 0.25"
      ],
      "execution_count": 0,
      "outputs": []
    },
    {
      "cell_type": "code",
      "metadata": {
        "id": "MM-QdKF5ljD1",
        "colab_type": "code",
        "outputId": "d2e9e2c2-2a36-4e03-cf7d-8c7c1bbf74dc",
        "colab": {
          "base_uri": "https://localhost:8080/",
          "height": 413
        }
      },
      "source": [
        "experiment = Experiment(name=f'default', dataset_name='tiny_imagenet')\n",
        "experiment.run(epochs=10, \n",
        "               momentum=0.9, \n",
        "               lr=max_lr, \n",
        "               regularization=None, \n",
        "               weight_decay=weight_decay, \n",
        "               max_lr=max_lr,\n",
        "               epochs_up=10, \n",
        "               base_momentum=0.85,\n",
        "               div_factor=1e6)"
      ],
      "execution_count": 11,
      "outputs": [
        {
          "output_type": "stream",
          "text": [
            "CUDA status: True\n"
          ],
          "name": "stdout"
        },
        {
          "output_type": "stream",
          "text": [
            "\r  0%|          | 0/1204 [00:00<?, ?it/s]"
          ],
          "name": "stderr"
        },
        {
          "output_type": "stream",
          "text": [
            "Found 77000 train images, 33000 validation images\n"
          ],
          "name": "stdout"
        },
        {
          "output_type": "stream",
          "text": [
            "TRAIN : epoch=0 train_loss=0.07596 correct/total=4431/77000 lr=0.03 accuracy=5.75: 100%|██████████| 1204/1204 [04:21<00:00,  4.60it/s]\n",
            "TEST :  epoch=0 test_loss=4.30274 correct/total=3113/33000 accuracy=\u001b[1m9.43\u001b[0m: 100%|██████████| 516/516 [00:39<00:00, 13.11it/s]\n",
            "TRAIN : epoch=1 train_loss=0.06162 correct/total=11568/77000 lr=0.05 accuracy=15.02: 100%|██████████| 1204/1204 [04:21<00:00,  4.61it/s]\n",
            "TEST :  epoch=1 test_loss=3.70267 correct/total=5907/33000 accuracy=\u001b[1m17.90\u001b[0m: 100%|██████████| 516/516 [00:39<00:00, 13.07it/s]\n",
            "TRAIN : epoch=2 train_loss=0.05415 correct/total=17241/77000 lr=0.08 accuracy=22.39: 100%|██████████| 1204/1204 [04:21<00:00,  4.61it/s]\n",
            "TEST :  epoch=2 test_loss=3.77991 correct/total=5711/33000 accuracy=\u001b[1m17.31\u001b[0m: 100%|██████████| 516/516 [00:39<00:00, 13.05it/s]\n",
            "TRAIN : epoch=3 train_loss=0.05125 correct/total=20208/77000 lr=0.10 accuracy=26.24: 100%|██████████| 1204/1204 [04:21<00:00,  4.61it/s]\n",
            "TEST :  epoch=3 test_loss=3.12928 correct/total=9467/33000 accuracy=\u001b[1m28.69\u001b[0m: 100%|██████████| 516/516 [00:39<00:00, 13.03it/s]\n",
            "TRAIN : epoch=4 train_loss=0.04666 correct/total=23994/77000 lr=0.13 accuracy=31.16: 100%|██████████| 1204/1204 [04:20<00:00,  4.62it/s]\n",
            "TEST :  epoch=4 test_loss=3.17687 correct/total=9708/33000 accuracy=\u001b[1m29.42\u001b[0m: 100%|██████████| 516/516 [00:39<00:00, 13.17it/s]\n",
            "TRAIN : epoch=5 train_loss=0.10533 correct/total=12221/77000 lr=0.15 accuracy=15.87: 100%|██████████| 1204/1204 [04:17<00:00,  4.68it/s]\n",
            "TEST :  epoch=5 test_loss=5.09345 correct/total=532/33000 accuracy=\u001b[1m1.61\u001b[0m: 100%|██████████| 516/516 [00:38<00:00, 13.34it/s]\n",
            "TRAIN : epoch=6 train_loss=0.07906 correct/total=1705/77000 lr=0.18 accuracy=2.21: 100%|██████████| 1204/1204 [04:14<00:00,  4.74it/s]\n",
            "TEST :  epoch=6 test_loss=4.94097 correct/total=1088/33000 accuracy=\u001b[1m3.30\u001b[0m: 100%|██████████| 516/516 [00:38<00:00, 13.37it/s]\n",
            "TRAIN : epoch=7 train_loss=0.07566 correct/total=3213/77000 lr=0.20 accuracy=4.17: 100%|██████████| 1204/1204 [04:13<00:00,  4.74it/s]\n",
            "TEST :  epoch=7 test_loss=4.70891 correct/total=1735/33000 accuracy=\u001b[1m5.26\u001b[0m: 100%|██████████| 516/516 [00:38<00:00, 13.33it/s]\n",
            "TRAIN : epoch=8 train_loss=0.07326 correct/total=4496/77000 lr=0.23 accuracy=5.84: 100%|██████████| 1204/1204 [04:14<00:00,  4.73it/s]\n",
            "TEST :  epoch=8 test_loss=4.62594 correct/total=2118/33000 accuracy=\u001b[1m6.42\u001b[0m: 100%|██████████| 516/516 [00:38<00:00, 13.32it/s]\n",
            "TRAIN : epoch=9 train_loss=0.07132 correct/total=5582/77000 lr=0.25 accuracy=7.25: 100%|██████████| 1204/1204 [04:14<00:00,  4.73it/s]\n",
            "TEST :  epoch=9 test_loss=4.76374 correct/total=2366/33000 accuracy=\u001b[1m7.17\u001b[0m: 100%|██████████| 516/516 [00:38<00:00, 13.34it/s]\n"
          ],
          "name": "stderr"
        }
      ]
    },
    {
      "cell_type": "markdown",
      "metadata": {
        "id": "QqqYApRnW3s5",
        "colab_type": "text"
      },
      "source": [
        "Selected max_lr is 0.125 as accuracy stagnates between 0.13 and 0.15"
      ]
    },
    {
      "cell_type": "markdown",
      "metadata": {
        "id": "--PFZhHsbQsu",
        "colab_type": "text"
      },
      "source": [
        "# Training"
      ]
    },
    {
      "cell_type": "code",
      "metadata": {
        "id": "W-qba6gmR6BX",
        "colab_type": "code",
        "colab": {}
      },
      "source": [
        "momentum = 0.9\n",
        "weight_decay = 0.01\n",
        "max_lr = 0.125"
      ],
      "execution_count": 0,
      "outputs": []
    },
    {
      "cell_type": "code",
      "metadata": {
        "id": "NgyJGw5kIORt",
        "colab_type": "code",
        "outputId": "b09df200-bb39-4435-cd12-53473b7e3adf",
        "colab": {
          "base_uri": "https://localhost:8080/",
          "height": 53
        }
      },
      "source": [
        "experiment_ocp = Experiment(name=f'default', dataset_name='tiny_imagenet')"
      ],
      "execution_count": 9,
      "outputs": [
        {
          "output_type": "stream",
          "text": [
            "CUDA status: True\n",
            "Found 77000 train images, 33000 validation images\n"
          ],
          "name": "stdout"
        }
      ]
    },
    {
      "cell_type": "code",
      "metadata": {
        "id": "2uZgrDEVcuf7",
        "colab_type": "code",
        "colab": {
          "base_uri": "https://localhost:8080/",
          "height": 773
        },
        "outputId": "b3fdfdfc-31a5-4f31-98a3-20d082c197c9"
      },
      "source": [
        "textual_summary_tiny_imagenet(experiment_ocp.model)"
      ],
      "execution_count": 12,
      "outputs": [
        {
          "output_type": "stream",
          "text": [
            "----------------------------------------------------------------\n",
            "        Layer (type)               Output Shape         Param #\n",
            "================================================================\n",
            "            Conv2d-1           [-1, 64, 64, 64]           1,728\n",
            "       BatchNorm2d-2           [-1, 64, 64, 64]             128\n",
            "              ReLU-3           [-1, 64, 64, 64]               0\n",
            "            Conv2d-4          [-1, 128, 64, 64]          73,728\n",
            "         MaxPool2d-5          [-1, 128, 32, 32]               0\n",
            "       BatchNorm2d-6          [-1, 128, 32, 32]             256\n",
            "              ReLU-7          [-1, 128, 32, 32]               0\n",
            "            Conv2d-8          [-1, 128, 32, 32]         147,456\n",
            "       BatchNorm2d-9          [-1, 128, 32, 32]             256\n",
            "             ReLU-10          [-1, 128, 32, 32]               0\n",
            "           Conv2d-11          [-1, 128, 32, 32]         147,456\n",
            "      BatchNorm2d-12          [-1, 128, 32, 32]             256\n",
            "             ReLU-13          [-1, 128, 32, 32]               0\n",
            "           Conv2d-14          [-1, 256, 32, 32]         294,912\n",
            "        MaxPool2d-15          [-1, 256, 16, 16]               0\n",
            "      BatchNorm2d-16          [-1, 256, 16, 16]             512\n",
            "             ReLU-17          [-1, 256, 16, 16]               0\n",
            "           Conv2d-18          [-1, 512, 16, 16]       1,179,648\n",
            "        MaxPool2d-19            [-1, 512, 8, 8]               0\n",
            "      BatchNorm2d-20            [-1, 512, 8, 8]           1,024\n",
            "             ReLU-21            [-1, 512, 8, 8]               0\n",
            "           Conv2d-22            [-1, 512, 8, 8]       2,359,296\n",
            "      BatchNorm2d-23            [-1, 512, 8, 8]           1,024\n",
            "             ReLU-24            [-1, 512, 8, 8]               0\n",
            "           Conv2d-25            [-1, 512, 8, 8]       2,359,296\n",
            "      BatchNorm2d-26            [-1, 512, 8, 8]           1,024\n",
            "             ReLU-27            [-1, 512, 8, 8]               0\n",
            "        MaxPool2d-28            [-1, 512, 1, 1]               0\n",
            "           Linear-29                  [-1, 200]         102,600\n",
            "================================================================\n",
            "Total params: 6,670,600\n",
            "Trainable params: 6,670,600\n",
            "Non-trainable params: 0\n",
            "----------------------------------------------------------------\n",
            "Input size (MB): 0.05\n",
            "Forward/backward pass size (MB): 25.76\n",
            "Params size (MB): 25.45\n",
            "Estimated Total Size (MB): 51.25\n",
            "----------------------------------------------------------------\n"
          ],
          "name": "stdout"
        }
      ]
    },
    {
      "cell_type": "code",
      "metadata": {
        "id": "quKS1uKVd8Fx",
        "colab_type": "code",
        "colab": {
          "base_uri": "https://localhost:8080/",
          "height": 1000
        },
        "outputId": "bd192369-6796-49ec-dcca-a5fd05503580"
      },
      "source": [
        "graphical_summary_tiny_imagenet(experiment_ocp.model)"
      ],
      "execution_count": 13,
      "outputs": [
        {
          "output_type": "execute_result",
          "data": {
            "text/plain": [
              "<graphviz.dot.Digraph at 0x7f43414898d0>"
            ],
            "image/svg+xml": "<?xml version=\"1.0\" encoding=\"UTF-8\" standalone=\"no\"?>\n<!DOCTYPE svg PUBLIC \"-//W3C//DTD SVG 1.1//EN\"\n \"http://www.w3.org/Graphics/SVG/1.1/DTD/svg11.dtd\">\n<!-- Generated by graphviz version 2.40.1 (20161225.0304)\n -->\n<!-- Title: %3 Pages: 1 -->\n<svg width=\"443pt\" height=\"1307pt\"\n viewBox=\"0.00 0.00 442.82 1307.00\" xmlns=\"http://www.w3.org/2000/svg\" xmlns:xlink=\"http://www.w3.org/1999/xlink\">\n<g id=\"graph0\" class=\"graph\" transform=\"scale(.6045 .6045) rotate(0) translate(4 2158)\">\n<title>%3</title>\n<polygon fill=\"#ffffff\" stroke=\"transparent\" points=\"-4,4 -4,-2158 728.5,-2158 728.5,4 -4,4\"/>\n<!-- 139926834813192 -->\n<g id=\"node1\" class=\"node\">\n<title>139926834813192</title>\n<polygon fill=\"#caff70\" stroke=\"#000000\" points=\"614,-21 489,-21 489,0 614,0 614,-21\"/>\n<text text-anchor=\"middle\" x=\"551.5\" y=\"-7.4\" font-family=\"Times,serif\" font-size=\"12.00\" fill=\"#000000\">LogSoftmaxBackward</text>\n</g>\n<!-- 139926834814648 -->\n<g id=\"node2\" class=\"node\">\n<title>139926834814648</title>\n<polygon fill=\"#d3d3d3\" stroke=\"#000000\" points=\"603.5,-78 499.5,-78 499.5,-57 603.5,-57 603.5,-78\"/>\n<text text-anchor=\"middle\" x=\"551.5\" y=\"-64.4\" font-family=\"Times,serif\" font-size=\"12.00\" fill=\"#000000\">AddmmBackward</text>\n</g>\n<!-- 139926834814648&#45;&gt;139926834813192 -->\n<g id=\"edge1\" class=\"edge\">\n<title>139926834814648&#45;&gt;139926834813192</title>\n<path fill=\"none\" stroke=\"#000000\" d=\"M551.5,-56.7787C551.5,-49.6134 551.5,-39.9517 551.5,-31.3097\"/>\n<polygon fill=\"#000000\" stroke=\"#000000\" points=\"555.0001,-31.1732 551.5,-21.1732 548.0001,-31.1732 555.0001,-31.1732\"/>\n</g>\n<!-- 139926834811680 -->\n<g id=\"node3\" class=\"node\">\n<title>139926834811680</title>\n<polygon fill=\"#add8e6\" stroke=\"#000000\" points=\"487.5,-149 433.5,-149 433.5,-114 487.5,-114 487.5,-149\"/>\n<text text-anchor=\"middle\" x=\"460.5\" y=\"-121.4\" font-family=\"Times,serif\" font-size=\"12.00\" fill=\"#000000\"> (200)</text>\n</g>\n<!-- 139926834811680&#45;&gt;139926834814648 -->\n<g id=\"edge2\" class=\"edge\">\n<title>139926834811680&#45;&gt;139926834814648</title>\n<path fill=\"none\" stroke=\"#000000\" d=\"M485.8486,-113.6724C499.0947,-104.3565 515.1963,-93.0322 528.1383,-83.9302\"/>\n<polygon fill=\"#000000\" stroke=\"#000000\" points=\"530.3532,-86.6514 536.5194,-78.0358 526.3263,-80.9257 530.3532,-86.6514\"/>\n</g>\n<!-- 139926830490176 -->\n<g id=\"node4\" class=\"node\">\n<title>139926830490176</title>\n<polygon fill=\"#d3d3d3\" stroke=\"#000000\" points=\"597,-142 506,-142 506,-121 597,-121 597,-142\"/>\n<text text-anchor=\"middle\" x=\"551.5\" y=\"-128.4\" font-family=\"Times,serif\" font-size=\"12.00\" fill=\"#000000\">ViewBackward</text>\n</g>\n<!-- 139926830490176&#45;&gt;139926834814648 -->\n<g id=\"edge3\" class=\"edge\">\n<title>139926830490176&#45;&gt;139926834814648</title>\n<path fill=\"none\" stroke=\"#000000\" d=\"M551.5,-120.9317C551.5,-112.0913 551.5,-99.2122 551.5,-88.3135\"/>\n<polygon fill=\"#000000\" stroke=\"#000000\" points=\"555.0001,-88.2979 551.5,-78.2979 548.0001,-88.2979 555.0001,-88.2979\"/>\n</g>\n<!-- 139925699795040 -->\n<g id=\"node5\" class=\"node\">\n<title>139925699795040</title>\n<polygon fill=\"#d3d3d3\" stroke=\"#000000\" points=\"630.5,-213 450.5,-213 450.5,-192 630.5,-192 630.5,-213\"/>\n<text text-anchor=\"middle\" x=\"540.5\" y=\"-199.4\" font-family=\"Times,serif\" font-size=\"12.00\" fill=\"#000000\">MaxPool2DWithIndicesBackward</text>\n</g>\n<!-- 139925699795040&#45;&gt;139926830490176 -->\n<g id=\"edge4\" class=\"edge\">\n<title>139925699795040&#45;&gt;139926830490176</title>\n<path fill=\"none\" stroke=\"#000000\" d=\"M542.1707,-191.7166C543.7859,-181.291 546.2759,-165.2192 548.2773,-152.3011\"/>\n<polygon fill=\"#000000\" stroke=\"#000000\" points=\"551.7412,-152.8028 549.8136,-142.3849 544.8238,-151.7311 551.7412,-152.8028\"/>\n</g>\n<!-- 139926832917304 -->\n<g id=\"node6\" class=\"node\">\n<title>139926832917304</title>\n<polygon fill=\"#d3d3d3\" stroke=\"#000000\" points=\"586.5,-277 494.5,-277 494.5,-256 586.5,-256 586.5,-277\"/>\n<text text-anchor=\"middle\" x=\"540.5\" y=\"-263.4\" font-family=\"Times,serif\" font-size=\"12.00\" fill=\"#000000\">AddBackward0</text>\n</g>\n<!-- 139926832917304&#45;&gt;139925699795040 -->\n<g id=\"edge5\" class=\"edge\">\n<title>139926832917304&#45;&gt;139925699795040</title>\n<path fill=\"none\" stroke=\"#000000\" d=\"M540.5,-255.9317C540.5,-247.0913 540.5,-234.2122 540.5,-223.3135\"/>\n<polygon fill=\"#000000\" stroke=\"#000000\" points=\"544.0001,-223.2979 540.5,-213.2979 537.0001,-223.2979 544.0001,-223.2979\"/>\n</g>\n<!-- 139926832914672 -->\n<g id=\"node7\" class=\"node\">\n<title>139926832914672</title>\n<polygon fill=\"#d3d3d3\" stroke=\"#000000\" points=\"672.5,-725 578.5,-725 578.5,-704 672.5,-704 672.5,-725\"/>\n<text text-anchor=\"middle\" x=\"625.5\" y=\"-711.4\" font-family=\"Times,serif\" font-size=\"12.00\" fill=\"#000000\">ReluBackward0</text>\n</g>\n<!-- 139926832914672&#45;&gt;139926832917304 -->\n<g id=\"edge6\" class=\"edge\">\n<title>139926832914672&#45;&gt;139926832917304</title>\n<path fill=\"none\" stroke=\"#000000\" d=\"M625.5,-703.9973C625.5,-681.2856 625.5,-625.9063 625.5,-579.5 625.5,-579.5 625.5,-579.5 625.5,-380.5 625.5,-339.2447 589.2807,-303.2734 564.1278,-283.2669\"/>\n<polygon fill=\"#000000\" stroke=\"#000000\" points=\"566.1571,-280.4125 556.0903,-277.1095 561.9002,-285.9694 566.1571,-280.4125\"/>\n</g>\n<!-- 139926836724344 -->\n<g id=\"node52\" class=\"node\">\n<title>139926836724344</title>\n<polygon fill=\"#d3d3d3\" stroke=\"#000000\" points=\"597,-654 440,-654 440,-633 597,-633 597,-654\"/>\n<text text-anchor=\"middle\" x=\"518.5\" y=\"-640.4\" font-family=\"Times,serif\" font-size=\"12.00\" fill=\"#000000\">CudnnConvolutionBackward</text>\n</g>\n<!-- 139926832914672&#45;&gt;139926836724344 -->\n<g id=\"edge53\" class=\"edge\">\n<title>139926832914672&#45;&gt;139926836724344</title>\n<path fill=\"none\" stroke=\"#000000\" d=\"M609.249,-703.7166C591.6284,-692.0245 563.3059,-673.231 542.9873,-659.7486\"/>\n<polygon fill=\"#000000\" stroke=\"#000000\" points=\"544.821,-656.7649 534.5533,-654.1522 540.9507,-662.5976 544.821,-656.7649\"/>\n</g>\n<!-- 139926832916240 -->\n<g id=\"node8\" class=\"node\">\n<title>139926832916240</title>\n<polygon fill=\"#d3d3d3\" stroke=\"#000000\" points=\"702,-789 549,-789 549,-768 702,-768 702,-789\"/>\n<text text-anchor=\"middle\" x=\"625.5\" y=\"-775.4\" font-family=\"Times,serif\" font-size=\"12.00\" fill=\"#000000\">CudnnBatchNormBackward</text>\n</g>\n<!-- 139926832916240&#45;&gt;139926832914672 -->\n<g id=\"edge7\" class=\"edge\">\n<title>139926832916240&#45;&gt;139926832914672</title>\n<path fill=\"none\" stroke=\"#000000\" d=\"M625.5,-767.9317C625.5,-759.0913 625.5,-746.2122 625.5,-735.3135\"/>\n<polygon fill=\"#000000\" stroke=\"#000000\" points=\"629.0001,-735.2979 625.5,-725.2979 622.0001,-735.2979 629.0001,-735.2979\"/>\n</g>\n<!-- 139926832915736 -->\n<g id=\"node9\" class=\"node\">\n<title>139926832915736</title>\n<polygon fill=\"#d3d3d3\" stroke=\"#000000\" points=\"580.5,-853 400.5,-853 400.5,-832 580.5,-832 580.5,-853\"/>\n<text text-anchor=\"middle\" x=\"490.5\" y=\"-839.4\" font-family=\"Times,serif\" font-size=\"12.00\" fill=\"#000000\">MaxPool2DWithIndicesBackward</text>\n</g>\n<!-- 139926832915736&#45;&gt;139926832916240 -->\n<g id=\"edge8\" class=\"edge\">\n<title>139926832915736&#45;&gt;139926832916240</title>\n<path fill=\"none\" stroke=\"#000000\" d=\"M512.7925,-831.9317C534.9723,-821.4168 569.2043,-805.1883 594.1241,-793.3745\"/>\n<polygon fill=\"#000000\" stroke=\"#000000\" points=\"595.6377,-796.5304 603.1744,-789.084 592.639,-790.2052 595.6377,-796.5304\"/>\n</g>\n<!-- 139926832916688 -->\n<g id=\"node10\" class=\"node\">\n<title>139926832916688</title>\n<polygon fill=\"#d3d3d3\" stroke=\"#000000\" points=\"569,-917 412,-917 412,-896 569,-896 569,-917\"/>\n<text text-anchor=\"middle\" x=\"490.5\" y=\"-903.4\" font-family=\"Times,serif\" font-size=\"12.00\" fill=\"#000000\">CudnnConvolutionBackward</text>\n</g>\n<!-- 139926832916688&#45;&gt;139926832915736 -->\n<g id=\"edge9\" class=\"edge\">\n<title>139926832916688&#45;&gt;139926832915736</title>\n<path fill=\"none\" stroke=\"#000000\" d=\"M490.5,-895.9317C490.5,-887.0913 490.5,-874.2122 490.5,-863.3135\"/>\n<polygon fill=\"#000000\" stroke=\"#000000\" points=\"494.0001,-863.2979 490.5,-853.2979 487.0001,-863.2979 494.0001,-863.2979\"/>\n</g>\n<!-- 139926832916744 -->\n<g id=\"node11\" class=\"node\">\n<title>139926832916744</title>\n<polygon fill=\"#d3d3d3\" stroke=\"#000000\" points=\"481.5,-981 387.5,-981 387.5,-960 481.5,-960 481.5,-981\"/>\n<text text-anchor=\"middle\" x=\"434.5\" y=\"-967.4\" font-family=\"Times,serif\" font-size=\"12.00\" fill=\"#000000\">ReluBackward0</text>\n</g>\n<!-- 139926832916744&#45;&gt;139926832916688 -->\n<g id=\"edge10\" class=\"edge\">\n<title>139926832916744&#45;&gt;139926832916688</title>\n<path fill=\"none\" stroke=\"#000000\" d=\"M443.7473,-959.9317C452.0466,-950.4467 464.414,-936.3125 474.3446,-924.9634\"/>\n<polygon fill=\"#000000\" stroke=\"#000000\" points=\"477.1008,-927.1285 481.0518,-917.2979 471.8327,-922.5189 477.1008,-927.1285\"/>\n</g>\n<!-- 139926832916016 -->\n<g id=\"node12\" class=\"node\">\n<title>139926832916016</title>\n<polygon fill=\"#d3d3d3\" stroke=\"#000000\" points=\"511,-1045 358,-1045 358,-1024 511,-1024 511,-1045\"/>\n<text text-anchor=\"middle\" x=\"434.5\" y=\"-1031.4\" font-family=\"Times,serif\" font-size=\"12.00\" fill=\"#000000\">CudnnBatchNormBackward</text>\n</g>\n<!-- 139926832916016&#45;&gt;139926832916744 -->\n<g id=\"edge11\" class=\"edge\">\n<title>139926832916016&#45;&gt;139926832916744</title>\n<path fill=\"none\" stroke=\"#000000\" d=\"M434.5,-1023.9317C434.5,-1015.0913 434.5,-1002.2122 434.5,-991.3135\"/>\n<polygon fill=\"#000000\" stroke=\"#000000\" points=\"438.0001,-991.2979 434.5,-981.2979 431.0001,-991.2979 438.0001,-991.2979\"/>\n</g>\n<!-- 139926832915456 -->\n<g id=\"node13\" class=\"node\">\n<title>139926832915456</title>\n<polygon fill=\"#d3d3d3\" stroke=\"#000000\" points=\"389.5,-1109 209.5,-1109 209.5,-1088 389.5,-1088 389.5,-1109\"/>\n<text text-anchor=\"middle\" x=\"299.5\" y=\"-1095.4\" font-family=\"Times,serif\" font-size=\"12.00\" fill=\"#000000\">MaxPool2DWithIndicesBackward</text>\n</g>\n<!-- 139926832915456&#45;&gt;139926832916016 -->\n<g id=\"edge12\" class=\"edge\">\n<title>139926832915456&#45;&gt;139926832916016</title>\n<path fill=\"none\" stroke=\"#000000\" d=\"M321.7925,-1087.9317C343.9723,-1077.4168 378.2043,-1061.1883 403.1241,-1049.3745\"/>\n<polygon fill=\"#000000\" stroke=\"#000000\" points=\"404.6377,-1052.5304 412.1744,-1045.084 401.639,-1046.2052 404.6377,-1052.5304\"/>\n</g>\n<!-- 139926832916184 -->\n<g id=\"node14\" class=\"node\">\n<title>139926832916184</title>\n<polygon fill=\"#d3d3d3\" stroke=\"#000000\" points=\"378,-1173 221,-1173 221,-1152 378,-1152 378,-1173\"/>\n<text text-anchor=\"middle\" x=\"299.5\" y=\"-1159.4\" font-family=\"Times,serif\" font-size=\"12.00\" fill=\"#000000\">CudnnConvolutionBackward</text>\n</g>\n<!-- 139926832916184&#45;&gt;139926832915456 -->\n<g id=\"edge13\" class=\"edge\">\n<title>139926832916184&#45;&gt;139926832915456</title>\n<path fill=\"none\" stroke=\"#000000\" d=\"M299.5,-1151.9317C299.5,-1143.0913 299.5,-1130.2122 299.5,-1119.3135\"/>\n<polygon fill=\"#000000\" stroke=\"#000000\" points=\"303.0001,-1119.2979 299.5,-1109.2979 296.0001,-1119.2979 303.0001,-1119.2979\"/>\n</g>\n<!-- 139926832915624 -->\n<g id=\"node15\" class=\"node\">\n<title>139926832915624</title>\n<polygon fill=\"#d3d3d3\" stroke=\"#000000\" points=\"290.5,-1237 198.5,-1237 198.5,-1216 290.5,-1216 290.5,-1237\"/>\n<text text-anchor=\"middle\" x=\"244.5\" y=\"-1223.4\" font-family=\"Times,serif\" font-size=\"12.00\" fill=\"#000000\">AddBackward0</text>\n</g>\n<!-- 139926832915624&#45;&gt;139926832916184 -->\n<g id=\"edge14\" class=\"edge\">\n<title>139926832915624&#45;&gt;139926832916184</title>\n<path fill=\"none\" stroke=\"#000000\" d=\"M253.5821,-1215.9317C261.7333,-1206.4467 273.8799,-1192.3125 283.6331,-1180.9634\"/>\n<polygon fill=\"#000000\" stroke=\"#000000\" points=\"286.3573,-1183.1633 290.2205,-1173.2979 281.0484,-1178.6009 286.3573,-1183.1633\"/>\n</g>\n<!-- 139926836725128 -->\n<g id=\"node16\" class=\"node\">\n<title>139926836725128</title>\n<polygon fill=\"#d3d3d3\" stroke=\"#000000\" points=\"438.5,-1692 344.5,-1692 344.5,-1671 438.5,-1671 438.5,-1692\"/>\n<text text-anchor=\"middle\" x=\"391.5\" y=\"-1678.4\" font-family=\"Times,serif\" font-size=\"12.00\" fill=\"#000000\">ReluBackward0</text>\n</g>\n<!-- 139926836725128&#45;&gt;139926832915624 -->\n<g id=\"edge15\" class=\"edge\">\n<title>139926836725128&#45;&gt;139926832915624</title>\n<path fill=\"none\" stroke=\"#000000\" d=\"M391.5,-1670.9973C391.5,-1648.2856 391.5,-1592.9063 391.5,-1546.5 391.5,-1546.5 391.5,-1546.5 391.5,-1347.5 391.5,-1292.9535 330.4187,-1258.4514 287.0031,-1240.8172\"/>\n<polygon fill=\"#000000\" stroke=\"#000000\" points=\"288.0779,-1237.4796 277.4897,-1237.1043 285.5328,-1244.0006 288.0779,-1237.4796\"/>\n</g>\n<!-- 139926836726080 -->\n<g id=\"node34\" class=\"node\">\n<title>139926836726080</title>\n<polygon fill=\"#d3d3d3\" stroke=\"#000000\" points=\"363,-1621 206,-1621 206,-1600 363,-1600 363,-1621\"/>\n<text text-anchor=\"middle\" x=\"284.5\" y=\"-1607.4\" font-family=\"Times,serif\" font-size=\"12.00\" fill=\"#000000\">CudnnConvolutionBackward</text>\n</g>\n<!-- 139926836725128&#45;&gt;139926836726080 -->\n<g id=\"edge34\" class=\"edge\">\n<title>139926836725128&#45;&gt;139926836726080</title>\n<path fill=\"none\" stroke=\"#000000\" d=\"M375.249,-1670.7166C357.6284,-1659.0245 329.3059,-1640.231 308.9873,-1626.7486\"/>\n<polygon fill=\"#000000\" stroke=\"#000000\" points=\"310.821,-1623.7649 300.5533,-1621.1522 306.9507,-1629.5976 310.821,-1623.7649\"/>\n</g>\n<!-- 139926836725408 -->\n<g id=\"node17\" class=\"node\">\n<title>139926836725408</title>\n<polygon fill=\"#d3d3d3\" stroke=\"#000000\" points=\"468,-1756 315,-1756 315,-1735 468,-1735 468,-1756\"/>\n<text text-anchor=\"middle\" x=\"391.5\" y=\"-1742.4\" font-family=\"Times,serif\" font-size=\"12.00\" fill=\"#000000\">CudnnBatchNormBackward</text>\n</g>\n<!-- 139926836725408&#45;&gt;139926836725128 -->\n<g id=\"edge16\" class=\"edge\">\n<title>139926836725408&#45;&gt;139926836725128</title>\n<path fill=\"none\" stroke=\"#000000\" d=\"M391.5,-1734.9317C391.5,-1726.0913 391.5,-1713.2122 391.5,-1702.3135\"/>\n<polygon fill=\"#000000\" stroke=\"#000000\" points=\"395.0001,-1702.2979 391.5,-1692.2979 388.0001,-1702.2979 395.0001,-1702.2979\"/>\n</g>\n<!-- 139926836723952 -->\n<g id=\"node18\" class=\"node\">\n<title>139926836723952</title>\n<polygon fill=\"#d3d3d3\" stroke=\"#000000\" points=\"346.5,-1820 166.5,-1820 166.5,-1799 346.5,-1799 346.5,-1820\"/>\n<text text-anchor=\"middle\" x=\"256.5\" y=\"-1806.4\" font-family=\"Times,serif\" font-size=\"12.00\" fill=\"#000000\">MaxPool2DWithIndicesBackward</text>\n</g>\n<!-- 139926836723952&#45;&gt;139926836725408 -->\n<g id=\"edge17\" class=\"edge\">\n<title>139926836723952&#45;&gt;139926836725408</title>\n<path fill=\"none\" stroke=\"#000000\" d=\"M278.7925,-1798.9317C300.9723,-1788.4168 335.2043,-1772.1883 360.1241,-1760.3745\"/>\n<polygon fill=\"#000000\" stroke=\"#000000\" points=\"361.6377,-1763.5304 369.1744,-1756.084 358.639,-1757.2052 361.6377,-1763.5304\"/>\n</g>\n<!-- 139926836725184 -->\n<g id=\"node19\" class=\"node\">\n<title>139926836725184</title>\n<polygon fill=\"#d3d3d3\" stroke=\"#000000\" points=\"335,-1884 178,-1884 178,-1863 335,-1863 335,-1884\"/>\n<text text-anchor=\"middle\" x=\"256.5\" y=\"-1870.4\" font-family=\"Times,serif\" font-size=\"12.00\" fill=\"#000000\">CudnnConvolutionBackward</text>\n</g>\n<!-- 139926836725184&#45;&gt;139926836723952 -->\n<g id=\"edge18\" class=\"edge\">\n<title>139926836725184&#45;&gt;139926836723952</title>\n<path fill=\"none\" stroke=\"#000000\" d=\"M256.5,-1862.9317C256.5,-1854.0913 256.5,-1841.2122 256.5,-1830.3135\"/>\n<polygon fill=\"#000000\" stroke=\"#000000\" points=\"260.0001,-1830.2979 256.5,-1820.2979 253.0001,-1830.2979 260.0001,-1830.2979\"/>\n</g>\n<!-- 139926836724400 -->\n<g id=\"node20\" class=\"node\">\n<title>139926836724400</title>\n<polygon fill=\"#d3d3d3\" stroke=\"#000000\" points=\"249.5,-1948 155.5,-1948 155.5,-1927 249.5,-1927 249.5,-1948\"/>\n<text text-anchor=\"middle\" x=\"202.5\" y=\"-1934.4\" font-family=\"Times,serif\" font-size=\"12.00\" fill=\"#000000\">ReluBackward0</text>\n</g>\n<!-- 139926836724400&#45;&gt;139926836725184 -->\n<g id=\"edge19\" class=\"edge\">\n<title>139926836724400&#45;&gt;139926836725184</title>\n<path fill=\"none\" stroke=\"#000000\" d=\"M211.417,-1926.9317C219.42,-1917.4467 231.3457,-1903.3125 240.9215,-1891.9634\"/>\n<polygon fill=\"#000000\" stroke=\"#000000\" points=\"243.6155,-1894.1979 247.3893,-1884.2979 238.2655,-1889.6838 243.6155,-1894.1979\"/>\n</g>\n<!-- 139926836724624 -->\n<g id=\"node21\" class=\"node\">\n<title>139926836724624</title>\n<polygon fill=\"#d3d3d3\" stroke=\"#000000\" points=\"279,-2012 126,-2012 126,-1991 279,-1991 279,-2012\"/>\n<text text-anchor=\"middle\" x=\"202.5\" y=\"-1998.4\" font-family=\"Times,serif\" font-size=\"12.00\" fill=\"#000000\">CudnnBatchNormBackward</text>\n</g>\n<!-- 139926836724624&#45;&gt;139926836724400 -->\n<g id=\"edge20\" class=\"edge\">\n<title>139926836724624&#45;&gt;139926836724400</title>\n<path fill=\"none\" stroke=\"#000000\" d=\"M202.5,-1990.9317C202.5,-1982.0913 202.5,-1969.2122 202.5,-1958.3135\"/>\n<polygon fill=\"#000000\" stroke=\"#000000\" points=\"206.0001,-1958.2979 202.5,-1948.2979 199.0001,-1958.2979 206.0001,-1958.2979\"/>\n</g>\n<!-- 139926836726472 -->\n<g id=\"node22\" class=\"node\">\n<title>139926836726472</title>\n<polygon fill=\"#d3d3d3\" stroke=\"#000000\" points=\"157,-2076 0,-2076 0,-2055 157,-2055 157,-2076\"/>\n<text text-anchor=\"middle\" x=\"78.5\" y=\"-2062.4\" font-family=\"Times,serif\" font-size=\"12.00\" fill=\"#000000\">CudnnConvolutionBackward</text>\n</g>\n<!-- 139926836726472&#45;&gt;139926836724624 -->\n<g id=\"edge21\" class=\"edge\">\n<title>139926836726472&#45;&gt;139926836724624</title>\n<path fill=\"none\" stroke=\"#000000\" d=\"M98.9761,-2054.9317C119.1691,-2044.5095 150.2382,-2028.4738 173.0737,-2016.6878\"/>\n<polygon fill=\"#000000\" stroke=\"#000000\" points=\"174.7126,-2019.7807 181.9935,-2012.084 171.502,-2013.5603 174.7126,-2019.7807\"/>\n</g>\n<!-- 139926836724176 -->\n<g id=\"node23\" class=\"node\">\n<title>139926836724176</title>\n<polygon fill=\"#add8e6\" stroke=\"#000000\" points=\"116,-2154 41,-2154 41,-2119 116,-2119 116,-2154\"/>\n<text text-anchor=\"middle\" x=\"78.5\" y=\"-2126.4\" font-family=\"Times,serif\" font-size=\"12.00\" fill=\"#000000\"> (64, 3, 3, 3)</text>\n</g>\n<!-- 139926836724176&#45;&gt;139926836726472 -->\n<g id=\"edge22\" class=\"edge\">\n<title>139926836724176&#45;&gt;139926836726472</title>\n<path fill=\"none\" stroke=\"#000000\" d=\"M78.5,-2118.9494C78.5,-2109.058 78.5,-2096.6435 78.5,-2086.2693\"/>\n<polygon fill=\"#000000\" stroke=\"#000000\" points=\"82.0001,-2086.0288 78.5,-2076.0288 75.0001,-2086.0289 82.0001,-2086.0288\"/>\n</g>\n<!-- 139926836725072 -->\n<g id=\"node24\" class=\"node\">\n<title>139926836725072</title>\n<polygon fill=\"#add8e6\" stroke=\"#000000\" points=\"229.5,-2083 175.5,-2083 175.5,-2048 229.5,-2048 229.5,-2083\"/>\n<text text-anchor=\"middle\" x=\"202.5\" y=\"-2055.4\" font-family=\"Times,serif\" font-size=\"12.00\" fill=\"#000000\"> (64)</text>\n</g>\n<!-- 139926836725072&#45;&gt;139926836724624 -->\n<g id=\"edge23\" class=\"edge\">\n<title>139926836725072&#45;&gt;139926836724624</title>\n<path fill=\"none\" stroke=\"#000000\" d=\"M202.5,-2047.6724C202.5,-2039.8405 202.5,-2030.5893 202.5,-2022.4323\"/>\n<polygon fill=\"#000000\" stroke=\"#000000\" points=\"206.0001,-2022.2234 202.5,-2012.2234 199.0001,-2022.2235 206.0001,-2022.2234\"/>\n</g>\n<!-- 139926836724064 -->\n<g id=\"node25\" class=\"node\">\n<title>139926836724064</title>\n<polygon fill=\"#add8e6\" stroke=\"#000000\" points=\"301.5,-2083 247.5,-2083 247.5,-2048 301.5,-2048 301.5,-2083\"/>\n<text text-anchor=\"middle\" x=\"274.5\" y=\"-2055.4\" font-family=\"Times,serif\" font-size=\"12.00\" fill=\"#000000\"> (64)</text>\n</g>\n<!-- 139926836724064&#45;&gt;139926836724624 -->\n<g id=\"edge24\" class=\"edge\">\n<title>139926836724064&#45;&gt;139926836724624</title>\n<path fill=\"none\" stroke=\"#000000\" d=\"M254.444,-2047.6724C244.3315,-2038.6836 232.1156,-2027.825 222.0716,-2018.897\"/>\n<polygon fill=\"#000000\" stroke=\"#000000\" points=\"224.3633,-2016.2512 214.5639,-2012.2234 219.7127,-2021.483 224.3633,-2016.2512\"/>\n</g>\n<!-- 139926836725240 -->\n<g id=\"node26\" class=\"node\">\n<title>139926836725240</title>\n<polygon fill=\"#add8e6\" stroke=\"#000000\" points=\"355,-1955 268,-1955 268,-1920 355,-1920 355,-1955\"/>\n<text text-anchor=\"middle\" x=\"311.5\" y=\"-1927.4\" font-family=\"Times,serif\" font-size=\"12.00\" fill=\"#000000\"> (128, 64, 3, 3)</text>\n</g>\n<!-- 139926836725240&#45;&gt;139926836725184 -->\n<g id=\"edge25\" class=\"edge\">\n<title>139926836725240&#45;&gt;139926836725184</title>\n<path fill=\"none\" stroke=\"#000000\" d=\"M296.1794,-1919.6724C288.7606,-1911.0396 279.8597,-1900.6821 272.3697,-1891.9666\"/>\n<polygon fill=\"#000000\" stroke=\"#000000\" points=\"274.8876,-1889.5265 265.7154,-1884.2234 269.5787,-1894.0888 274.8876,-1889.5265\"/>\n</g>\n<!-- 139926836727088 -->\n<g id=\"node27\" class=\"node\">\n<title>139926836727088</title>\n<polygon fill=\"#add8e6\" stroke=\"#000000\" points=\"418.5,-1827 364.5,-1827 364.5,-1792 418.5,-1792 418.5,-1827\"/>\n<text text-anchor=\"middle\" x=\"391.5\" y=\"-1799.4\" font-family=\"Times,serif\" font-size=\"12.00\" fill=\"#000000\"> (128)</text>\n</g>\n<!-- 139926836727088&#45;&gt;139926836725408 -->\n<g id=\"edge26\" class=\"edge\">\n<title>139926836727088&#45;&gt;139926836725408</title>\n<path fill=\"none\" stroke=\"#000000\" d=\"M391.5,-1791.6724C391.5,-1783.8405 391.5,-1774.5893 391.5,-1766.4323\"/>\n<polygon fill=\"#000000\" stroke=\"#000000\" points=\"395.0001,-1766.2234 391.5,-1756.2234 388.0001,-1766.2235 395.0001,-1766.2234\"/>\n</g>\n<!-- 139926836727704 -->\n<g id=\"node28\" class=\"node\">\n<title>139926836727704</title>\n<polygon fill=\"#add8e6\" stroke=\"#000000\" points=\"490.5,-1827 436.5,-1827 436.5,-1792 490.5,-1792 490.5,-1827\"/>\n<text text-anchor=\"middle\" x=\"463.5\" y=\"-1799.4\" font-family=\"Times,serif\" font-size=\"12.00\" fill=\"#000000\"> (128)</text>\n</g>\n<!-- 139926836727704&#45;&gt;139926836725408 -->\n<g id=\"edge27\" class=\"edge\">\n<title>139926836727704&#45;&gt;139926836725408</title>\n<path fill=\"none\" stroke=\"#000000\" d=\"M443.444,-1791.6724C433.3315,-1782.6836 421.1156,-1771.825 411.0716,-1762.897\"/>\n<polygon fill=\"#000000\" stroke=\"#000000\" points=\"413.3633,-1760.2512 403.5639,-1756.2234 408.7127,-1765.483 413.3633,-1760.2512\"/>\n</g>\n<!-- 139926836723784 -->\n<g id=\"node29\" class=\"node\">\n<title>139926836723784</title>\n<polygon fill=\"#d3d3d3\" stroke=\"#000000\" points=\"254.5,-1301 160.5,-1301 160.5,-1280 254.5,-1280 254.5,-1301\"/>\n<text text-anchor=\"middle\" x=\"207.5\" y=\"-1287.4\" font-family=\"Times,serif\" font-size=\"12.00\" fill=\"#000000\">ReluBackward0</text>\n</g>\n<!-- 139926836723784&#45;&gt;139926832915624 -->\n<g id=\"edge28\" class=\"edge\">\n<title>139926836723784&#45;&gt;139926832915624</title>\n<path fill=\"none\" stroke=\"#000000\" d=\"M213.6098,-1279.9317C218.9336,-1270.723 226.7909,-1257.1319 233.2486,-1245.9619\"/>\n<polygon fill=\"#000000\" stroke=\"#000000\" points=\"236.2825,-1247.7071 238.2575,-1237.2979 230.2223,-1244.2035 236.2825,-1247.7071\"/>\n</g>\n<!-- 139926836726584 -->\n<g id=\"node30\" class=\"node\">\n<title>139926836726584</title>\n<polygon fill=\"#d3d3d3\" stroke=\"#000000\" points=\"256,-1358 103,-1358 103,-1337 256,-1337 256,-1358\"/>\n<text text-anchor=\"middle\" x=\"179.5\" y=\"-1344.4\" font-family=\"Times,serif\" font-size=\"12.00\" fill=\"#000000\">CudnnBatchNormBackward</text>\n</g>\n<!-- 139926836726584&#45;&gt;139926836723784 -->\n<g id=\"edge29\" class=\"edge\">\n<title>139926836726584&#45;&gt;139926836723784</title>\n<path fill=\"none\" stroke=\"#000000\" d=\"M184.7666,-1336.7787C188.4428,-1329.2949 193.4568,-1319.088 197.8406,-1310.1638\"/>\n<polygon fill=\"#000000\" stroke=\"#000000\" points=\"200.9894,-1311.6919 202.257,-1301.1732 194.7065,-1308.6056 200.9894,-1311.6919\"/>\n</g>\n<!-- 139926836724904 -->\n<g id=\"node31\" class=\"node\">\n<title>139926836724904</title>\n<polygon fill=\"#d3d3d3\" stroke=\"#000000\" points=\"320,-1422 163,-1422 163,-1401 320,-1401 320,-1422\"/>\n<text text-anchor=\"middle\" x=\"241.5\" y=\"-1408.4\" font-family=\"Times,serif\" font-size=\"12.00\" fill=\"#000000\">CudnnConvolutionBackward</text>\n</g>\n<!-- 139926836724904&#45;&gt;139926836726584 -->\n<g id=\"edge30\" class=\"edge\">\n<title>139926836724904&#45;&gt;139926836726584</title>\n<path fill=\"none\" stroke=\"#000000\" d=\"M231.262,-1400.9317C221.9842,-1391.3546 208.1146,-1377.0376 197.0669,-1365.6336\"/>\n<polygon fill=\"#000000\" stroke=\"#000000\" points=\"199.4323,-1363.045 189.9605,-1358.2979 194.4046,-1367.9156 199.4323,-1363.045\"/>\n</g>\n<!-- 139926836726920 -->\n<g id=\"node32\" class=\"node\">\n<title>139926836726920</title>\n<polygon fill=\"#d3d3d3\" stroke=\"#000000\" points=\"288.5,-1493 194.5,-1493 194.5,-1472 288.5,-1472 288.5,-1493\"/>\n<text text-anchor=\"middle\" x=\"241.5\" y=\"-1479.4\" font-family=\"Times,serif\" font-size=\"12.00\" fill=\"#000000\">ReluBackward0</text>\n</g>\n<!-- 139926836726920&#45;&gt;139926836724904 -->\n<g id=\"edge31\" class=\"edge\">\n<title>139926836726920&#45;&gt;139926836724904</title>\n<path fill=\"none\" stroke=\"#000000\" d=\"M241.5,-1471.7166C241.5,-1461.3953 241.5,-1445.5401 241.5,-1432.6896\"/>\n<polygon fill=\"#000000\" stroke=\"#000000\" points=\"245.0001,-1432.3848 241.5,-1422.3849 238.0001,-1432.3849 245.0001,-1432.3848\"/>\n</g>\n<!-- 139926836724288 -->\n<g id=\"node33\" class=\"node\">\n<title>139926836724288</title>\n<polygon fill=\"#d3d3d3\" stroke=\"#000000\" points=\"291,-1557 138,-1557 138,-1536 291,-1536 291,-1557\"/>\n<text text-anchor=\"middle\" x=\"214.5\" y=\"-1543.4\" font-family=\"Times,serif\" font-size=\"12.00\" fill=\"#000000\">CudnnBatchNormBackward</text>\n</g>\n<!-- 139926836724288&#45;&gt;139926836726920 -->\n<g id=\"edge32\" class=\"edge\">\n<title>139926836724288&#45;&gt;139926836726920</title>\n<path fill=\"none\" stroke=\"#000000\" d=\"M218.9585,-1535.9317C222.7657,-1526.9072 228.3485,-1513.6738 233.0056,-1502.635\"/>\n<polygon fill=\"#000000\" stroke=\"#000000\" points=\"236.2823,-1503.872 236.9446,-1493.2979 229.8328,-1501.1511 236.2823,-1503.872\"/>\n</g>\n<!-- 139926836726080&#45;&gt;139926836724288 -->\n<g id=\"edge33\" class=\"edge\">\n<title>139926836726080&#45;&gt;139926836724288</title>\n<path fill=\"none\" stroke=\"#000000\" d=\"M272.9409,-1599.9317C262.3653,-1590.2625 246.5052,-1575.7619 233.9747,-1564.3054\"/>\n<polygon fill=\"#000000\" stroke=\"#000000\" points=\"236.0522,-1561.4625 226.3102,-1557.2979 231.3288,-1566.6287 236.0522,-1561.4625\"/>\n</g>\n<!-- 139926836727200 -->\n<g id=\"node35\" class=\"node\">\n<title>139926836727200</title>\n<polygon fill=\"#add8e6\" stroke=\"#000000\" points=\"326,-1699 233,-1699 233,-1664 326,-1664 326,-1699\"/>\n<text text-anchor=\"middle\" x=\"279.5\" y=\"-1671.4\" font-family=\"Times,serif\" font-size=\"12.00\" fill=\"#000000\"> (128, 128, 3, 3)</text>\n</g>\n<!-- 139926836727200&#45;&gt;139926836726080 -->\n<g id=\"edge35\" class=\"edge\">\n<title>139926836727200&#45;&gt;139926836726080</title>\n<path fill=\"none\" stroke=\"#000000\" d=\"M280.736,-1663.9494C281.4325,-1654.058 282.3068,-1641.6435 283.0374,-1631.2693\"/>\n<polygon fill=\"#000000\" stroke=\"#000000\" points=\"286.5473,-1631.25 283.7585,-1621.0288 279.5646,-1630.7582 286.5473,-1631.25\"/>\n</g>\n<!-- 139926836725352 -->\n<g id=\"node36\" class=\"node\">\n<title>139926836725352</title>\n<polygon fill=\"#add8e6\" stroke=\"#000000\" points=\"115.5,-1628 61.5,-1628 61.5,-1593 115.5,-1593 115.5,-1628\"/>\n<text text-anchor=\"middle\" x=\"88.5\" y=\"-1600.4\" font-family=\"Times,serif\" font-size=\"12.00\" fill=\"#000000\"> (128)</text>\n</g>\n<!-- 139926836725352&#45;&gt;139926836724288 -->\n<g id=\"edge36\" class=\"edge\">\n<title>139926836725352&#45;&gt;139926836724288</title>\n<path fill=\"none\" stroke=\"#000000\" d=\"M115.5302,-1596.7704C135.8471,-1586.4507 163.6698,-1572.3185 184.6421,-1561.6659\"/>\n<polygon fill=\"#000000\" stroke=\"#000000\" points=\"186.4137,-1564.6918 193.7444,-1557.0425 183.2436,-1558.4507 186.4137,-1564.6918\"/>\n</g>\n<!-- 139926836727648 -->\n<g id=\"node37\" class=\"node\">\n<title>139926836727648</title>\n<polygon fill=\"#add8e6\" stroke=\"#000000\" points=\"187.5,-1628 133.5,-1628 133.5,-1593 187.5,-1593 187.5,-1628\"/>\n<text text-anchor=\"middle\" x=\"160.5\" y=\"-1600.4\" font-family=\"Times,serif\" font-size=\"12.00\" fill=\"#000000\"> (128)</text>\n</g>\n<!-- 139926836727648&#45;&gt;139926836724288 -->\n<g id=\"edge37\" class=\"edge\">\n<title>139926836727648&#45;&gt;139926836724288</title>\n<path fill=\"none\" stroke=\"#000000\" d=\"M175.542,-1592.6724C182.826,-1584.0396 191.5651,-1573.6821 198.9188,-1564.9666\"/>\n<polygon fill=\"#000000\" stroke=\"#000000\" points=\"201.6784,-1567.1234 205.4521,-1557.2234 196.3283,-1562.6093 201.6784,-1567.1234\"/>\n</g>\n<!-- 139926836727592 -->\n<g id=\"node38\" class=\"node\">\n<title>139926836727592</title>\n<polygon fill=\"#add8e6\" stroke=\"#000000\" points=\"176,-1500 83,-1500 83,-1465 176,-1465 176,-1500\"/>\n<text text-anchor=\"middle\" x=\"129.5\" y=\"-1472.4\" font-family=\"Times,serif\" font-size=\"12.00\" fill=\"#000000\"> (128, 128, 3, 3)</text>\n</g>\n<!-- 139926836727592&#45;&gt;139926836724904 -->\n<g id=\"edge38\" class=\"edge\">\n<title>139926836727592&#45;&gt;139926836724904</title>\n<path fill=\"none\" stroke=\"#000000\" d=\"M157.1854,-1464.9494C175.2787,-1453.4795 198.7236,-1438.6172 216.2964,-1427.4773\"/>\n<polygon fill=\"#000000\" stroke=\"#000000\" points=\"218.3192,-1430.3391 224.8911,-1422.0288 214.5712,-1424.4269 218.3192,-1430.3391\"/>\n</g>\n<!-- 139926836725016 -->\n<g id=\"node39\" class=\"node\">\n<title>139926836725016</title>\n<polygon fill=\"#add8e6\" stroke=\"#000000\" points=\"72.5,-1429 18.5,-1429 18.5,-1394 72.5,-1394 72.5,-1429\"/>\n<text text-anchor=\"middle\" x=\"45.5\" y=\"-1401.4\" font-family=\"Times,serif\" font-size=\"12.00\" fill=\"#000000\"> (128)</text>\n</g>\n<!-- 139926836725016&#45;&gt;139926836726584 -->\n<g id=\"edge39\" class=\"edge\">\n<title>139926836725016&#45;&gt;139926836726584</title>\n<path fill=\"none\" stroke=\"#000000\" d=\"M72.6135,-1398.2859C75.6101,-1396.8356 78.6184,-1395.384 81.5,-1394 103.5736,-1383.3983 128.507,-1371.5697 147.7002,-1362.4957\"/>\n<polygon fill=\"#000000\" stroke=\"#000000\" points=\"149.3485,-1365.588 156.8952,-1358.1517 146.3584,-1359.2588 149.3485,-1365.588\"/>\n</g>\n<!-- 139926836724736 -->\n<g id=\"node40\" class=\"node\">\n<title>139926836724736</title>\n<polygon fill=\"#add8e6\" stroke=\"#000000\" points=\"144.5,-1429 90.5,-1429 90.5,-1394 144.5,-1394 144.5,-1429\"/>\n<text text-anchor=\"middle\" x=\"117.5\" y=\"-1401.4\" font-family=\"Times,serif\" font-size=\"12.00\" fill=\"#000000\"> (128)</text>\n</g>\n<!-- 139926836724736&#45;&gt;139926836726584 -->\n<g id=\"edge40\" class=\"edge\">\n<title>139926836724736&#45;&gt;139926836726584</title>\n<path fill=\"none\" stroke=\"#000000\" d=\"M134.7705,-1393.6724C143.306,-1384.8616 153.5818,-1374.2543 162.1307,-1365.4296\"/>\n<polygon fill=\"#000000\" stroke=\"#000000\" points=\"164.6675,-1367.8412 169.1117,-1358.2234 159.6398,-1362.9706 164.6675,-1367.8412\"/>\n</g>\n<!-- 139926832915960 -->\n<g id=\"node41\" class=\"node\">\n<title>139926832915960</title>\n<polygon fill=\"#add8e6\" stroke=\"#000000\" points=\"402,-1244 309,-1244 309,-1209 402,-1209 402,-1244\"/>\n<text text-anchor=\"middle\" x=\"355.5\" y=\"-1216.4\" font-family=\"Times,serif\" font-size=\"12.00\" fill=\"#000000\"> (256, 128, 3, 3)</text>\n</g>\n<!-- 139926832915960&#45;&gt;139926832916184 -->\n<g id=\"edge41\" class=\"edge\">\n<title>139926832915960&#45;&gt;139926832916184</title>\n<path fill=\"none\" stroke=\"#000000\" d=\"M339.9009,-1208.6724C332.3471,-1200.0396 323.2844,-1189.6821 315.6583,-1180.9666\"/>\n<polygon fill=\"#000000\" stroke=\"#000000\" points=\"318.1021,-1178.4444 308.883,-1173.2234 312.8341,-1183.054 318.1021,-1178.4444\"/>\n</g>\n<!-- 139926832916072 -->\n<g id=\"node42\" class=\"node\">\n<title>139926832916072</title>\n<polygon fill=\"#add8e6\" stroke=\"#000000\" points=\"461.5,-1116 407.5,-1116 407.5,-1081 461.5,-1081 461.5,-1116\"/>\n<text text-anchor=\"middle\" x=\"434.5\" y=\"-1088.4\" font-family=\"Times,serif\" font-size=\"12.00\" fill=\"#000000\"> (256)</text>\n</g>\n<!-- 139926832916072&#45;&gt;139926832916016 -->\n<g id=\"edge42\" class=\"edge\">\n<title>139926832916072&#45;&gt;139926832916016</title>\n<path fill=\"none\" stroke=\"#000000\" d=\"M434.5,-1080.6724C434.5,-1072.8405 434.5,-1063.5893 434.5,-1055.4323\"/>\n<polygon fill=\"#000000\" stroke=\"#000000\" points=\"438.0001,-1055.2234 434.5,-1045.2234 431.0001,-1055.2235 438.0001,-1055.2234\"/>\n</g>\n<!-- 139926832918480 -->\n<g id=\"node43\" class=\"node\">\n<title>139926832918480</title>\n<polygon fill=\"#add8e6\" stroke=\"#000000\" points=\"533.5,-1116 479.5,-1116 479.5,-1081 533.5,-1081 533.5,-1116\"/>\n<text text-anchor=\"middle\" x=\"506.5\" y=\"-1088.4\" font-family=\"Times,serif\" font-size=\"12.00\" fill=\"#000000\"> (256)</text>\n</g>\n<!-- 139926832918480&#45;&gt;139926832916016 -->\n<g id=\"edge43\" class=\"edge\">\n<title>139926832918480&#45;&gt;139926832916016</title>\n<path fill=\"none\" stroke=\"#000000\" d=\"M486.444,-1080.6724C476.3315,-1071.6836 464.1156,-1060.825 454.0716,-1051.897\"/>\n<polygon fill=\"#000000\" stroke=\"#000000\" points=\"456.3633,-1049.2512 446.5639,-1045.2234 451.7127,-1054.483 456.3633,-1049.2512\"/>\n</g>\n<!-- 139926832917192 -->\n<g id=\"node44\" class=\"node\">\n<title>139926832917192</title>\n<polygon fill=\"#add8e6\" stroke=\"#000000\" points=\"593,-988 500,-988 500,-953 593,-953 593,-988\"/>\n<text text-anchor=\"middle\" x=\"546.5\" y=\"-960.4\" font-family=\"Times,serif\" font-size=\"12.00\" fill=\"#000000\"> (512, 256, 3, 3)</text>\n</g>\n<!-- 139926832917192&#45;&gt;139926832916688 -->\n<g id=\"edge44\" class=\"edge\">\n<title>139926832917192&#45;&gt;139926832916688</title>\n<path fill=\"none\" stroke=\"#000000\" d=\"M530.9009,-952.6724C523.3471,-944.0396 514.2844,-933.6821 506.6583,-924.9666\"/>\n<polygon fill=\"#000000\" stroke=\"#000000\" points=\"509.1021,-922.4444 499.883,-917.2234 503.8341,-927.054 509.1021,-922.4444\"/>\n</g>\n<!-- 139926832916576 -->\n<g id=\"node45\" class=\"node\">\n<title>139926832916576</title>\n<polygon fill=\"#add8e6\" stroke=\"#000000\" points=\"652.5,-860 598.5,-860 598.5,-825 652.5,-825 652.5,-860\"/>\n<text text-anchor=\"middle\" x=\"625.5\" y=\"-832.4\" font-family=\"Times,serif\" font-size=\"12.00\" fill=\"#000000\"> (512)</text>\n</g>\n<!-- 139926832916576&#45;&gt;139926832916240 -->\n<g id=\"edge45\" class=\"edge\">\n<title>139926832916576&#45;&gt;139926832916240</title>\n<path fill=\"none\" stroke=\"#000000\" d=\"M625.5,-824.6724C625.5,-816.8405 625.5,-807.5893 625.5,-799.4323\"/>\n<polygon fill=\"#000000\" stroke=\"#000000\" points=\"629.0001,-799.2234 625.5,-789.2234 622.0001,-799.2235 629.0001,-799.2234\"/>\n</g>\n<!-- 139926832916408 -->\n<g id=\"node46\" class=\"node\">\n<title>139926832916408</title>\n<polygon fill=\"#add8e6\" stroke=\"#000000\" points=\"724.5,-860 670.5,-860 670.5,-825 724.5,-825 724.5,-860\"/>\n<text text-anchor=\"middle\" x=\"697.5\" y=\"-832.4\" font-family=\"Times,serif\" font-size=\"12.00\" fill=\"#000000\"> (512)</text>\n</g>\n<!-- 139926832916408&#45;&gt;139926832916240 -->\n<g id=\"edge46\" class=\"edge\">\n<title>139926832916408&#45;&gt;139926832916240</title>\n<path fill=\"none\" stroke=\"#000000\" d=\"M677.444,-824.6724C667.3315,-815.6836 655.1156,-804.825 645.0716,-795.897\"/>\n<polygon fill=\"#000000\" stroke=\"#000000\" points=\"647.3633,-793.2512 637.5639,-789.2234 642.7127,-798.483 647.3633,-793.2512\"/>\n</g>\n<!-- 139926832916912 -->\n<g id=\"node47\" class=\"node\">\n<title>139926832916912</title>\n<polygon fill=\"#d3d3d3\" stroke=\"#000000\" points=\"550.5,-334 456.5,-334 456.5,-313 550.5,-313 550.5,-334\"/>\n<text text-anchor=\"middle\" x=\"503.5\" y=\"-320.4\" font-family=\"Times,serif\" font-size=\"12.00\" fill=\"#000000\">ReluBackward0</text>\n</g>\n<!-- 139926832916912&#45;&gt;139926832917304 -->\n<g id=\"edge47\" class=\"edge\">\n<title>139926832916912&#45;&gt;139926832917304</title>\n<path fill=\"none\" stroke=\"#000000\" d=\"M510.4594,-312.7787C515.4207,-305.1357 522.2256,-294.6524 528.1044,-285.596\"/>\n<polygon fill=\"#000000\" stroke=\"#000000\" points=\"531.0628,-287.4667 533.5718,-277.1732 525.1913,-283.6553 531.0628,-287.4667\"/>\n</g>\n<!-- 139926832916632 -->\n<g id=\"node48\" class=\"node\">\n<title>139926832916632</title>\n<polygon fill=\"#d3d3d3\" stroke=\"#000000\" points=\"502,-391 349,-391 349,-370 502,-370 502,-391\"/>\n<text text-anchor=\"middle\" x=\"425.5\" y=\"-377.4\" font-family=\"Times,serif\" font-size=\"12.00\" fill=\"#000000\">CudnnBatchNormBackward</text>\n</g>\n<!-- 139926832916632&#45;&gt;139926832916912 -->\n<g id=\"edge48\" class=\"edge\">\n<title>139926832916632&#45;&gt;139926832916912</title>\n<path fill=\"none\" stroke=\"#000000\" d=\"M440.1712,-369.7787C451.6106,-361.4192 467.6996,-349.6618 480.7979,-340.09\"/>\n<polygon fill=\"#000000\" stroke=\"#000000\" points=\"482.8857,-342.8993 488.8946,-334.1732 478.7556,-337.2475 482.8857,-342.8993\"/>\n</g>\n<!-- 139926832915232 -->\n<g id=\"node49\" class=\"node\">\n<title>139926832915232</title>\n<polygon fill=\"#d3d3d3\" stroke=\"#000000\" points=\"566,-455 409,-455 409,-434 566,-434 566,-455\"/>\n<text text-anchor=\"middle\" x=\"487.5\" y=\"-441.4\" font-family=\"Times,serif\" font-size=\"12.00\" fill=\"#000000\">CudnnConvolutionBackward</text>\n</g>\n<!-- 139926832915232&#45;&gt;139926832916632 -->\n<g id=\"edge49\" class=\"edge\">\n<title>139926832915232&#45;&gt;139926832916632</title>\n<path fill=\"none\" stroke=\"#000000\" d=\"M477.262,-433.9317C467.9842,-424.3546 454.1146,-410.0376 443.0669,-398.6336\"/>\n<polygon fill=\"#000000\" stroke=\"#000000\" points=\"445.4323,-396.045 435.9605,-391.2979 440.4046,-400.9156 445.4323,-396.045\"/>\n</g>\n<!-- 139926832916296 -->\n<g id=\"node50\" class=\"node\">\n<title>139926832916296</title>\n<polygon fill=\"#d3d3d3\" stroke=\"#000000\" points=\"534.5,-526 440.5,-526 440.5,-505 534.5,-505 534.5,-526\"/>\n<text text-anchor=\"middle\" x=\"487.5\" y=\"-512.4\" font-family=\"Times,serif\" font-size=\"12.00\" fill=\"#000000\">ReluBackward0</text>\n</g>\n<!-- 139926832916296&#45;&gt;139926832915232 -->\n<g id=\"edge50\" class=\"edge\">\n<title>139926832916296&#45;&gt;139926832915232</title>\n<path fill=\"none\" stroke=\"#000000\" d=\"M487.5,-504.7166C487.5,-494.3953 487.5,-478.5401 487.5,-465.6896\"/>\n<polygon fill=\"#000000\" stroke=\"#000000\" points=\"491.0001,-465.3848 487.5,-455.3849 484.0001,-465.3849 491.0001,-465.3848\"/>\n</g>\n<!-- 139926836725912 -->\n<g id=\"node51\" class=\"node\">\n<title>139926836725912</title>\n<polygon fill=\"#d3d3d3\" stroke=\"#000000\" points=\"533,-590 380,-590 380,-569 533,-569 533,-590\"/>\n<text text-anchor=\"middle\" x=\"456.5\" y=\"-576.4\" font-family=\"Times,serif\" font-size=\"12.00\" fill=\"#000000\">CudnnBatchNormBackward</text>\n</g>\n<!-- 139926836725912&#45;&gt;139926832916296 -->\n<g id=\"edge51\" class=\"edge\">\n<title>139926836725912&#45;&gt;139926832916296</title>\n<path fill=\"none\" stroke=\"#000000\" d=\"M461.619,-568.9317C466.0349,-559.8151 472.5312,-546.4033 477.9105,-535.2977\"/>\n<polygon fill=\"#000000\" stroke=\"#000000\" points=\"481.0604,-536.8235 482.2698,-526.2979 474.7605,-533.772 481.0604,-536.8235\"/>\n</g>\n<!-- 139926836724344&#45;&gt;139926836725912 -->\n<g id=\"edge52\" class=\"edge\">\n<title>139926836724344&#45;&gt;139926836725912</title>\n<path fill=\"none\" stroke=\"#000000\" d=\"M508.262,-632.9317C498.9842,-623.3546 485.1146,-609.0376 474.0669,-597.6336\"/>\n<polygon fill=\"#000000\" stroke=\"#000000\" points=\"476.4323,-595.045 466.9605,-590.2979 471.4046,-599.9156 476.4323,-595.045\"/>\n</g>\n<!-- 139926836724008 -->\n<g id=\"node53\" class=\"node\">\n<title>139926836724008</title>\n<polygon fill=\"#add8e6\" stroke=\"#000000\" points=\"560,-732 467,-732 467,-697 560,-697 560,-732\"/>\n<text text-anchor=\"middle\" x=\"513.5\" y=\"-704.4\" font-family=\"Times,serif\" font-size=\"12.00\" fill=\"#000000\"> (512, 512, 3, 3)</text>\n</g>\n<!-- 139926836724008&#45;&gt;139926836724344 -->\n<g id=\"edge54\" class=\"edge\">\n<title>139926836724008&#45;&gt;139926836724344</title>\n<path fill=\"none\" stroke=\"#000000\" d=\"M514.736,-696.9494C515.4325,-687.058 516.3068,-674.6435 517.0374,-664.2693\"/>\n<polygon fill=\"#000000\" stroke=\"#000000\" points=\"520.5473,-664.25 517.7585,-654.0288 513.5646,-663.7582 520.5473,-664.25\"/>\n</g>\n<!-- 139926836723896 -->\n<g id=\"node54\" class=\"node\">\n<title>139926836723896</title>\n<polygon fill=\"#add8e6\" stroke=\"#000000\" points=\"349.5,-661 295.5,-661 295.5,-626 349.5,-626 349.5,-661\"/>\n<text text-anchor=\"middle\" x=\"322.5\" y=\"-633.4\" font-family=\"Times,serif\" font-size=\"12.00\" fill=\"#000000\"> (512)</text>\n</g>\n<!-- 139926836723896&#45;&gt;139926836725912 -->\n<g id=\"edge55\" class=\"edge\">\n<title>139926836723896&#45;&gt;139926836725912</title>\n<path fill=\"none\" stroke=\"#000000\" d=\"M349.6135,-630.2859C352.6101,-628.8356 355.6184,-627.384 358.5,-626 380.5736,-615.3983 405.507,-603.5697 424.7002,-594.4957\"/>\n<polygon fill=\"#000000\" stroke=\"#000000\" points=\"426.3485,-597.588 433.8952,-590.1517 423.3584,-591.2588 426.3485,-597.588\"/>\n</g>\n<!-- 139926836726024 -->\n<g id=\"node55\" class=\"node\">\n<title>139926836726024</title>\n<polygon fill=\"#add8e6\" stroke=\"#000000\" points=\"421.5,-661 367.5,-661 367.5,-626 421.5,-626 421.5,-661\"/>\n<text text-anchor=\"middle\" x=\"394.5\" y=\"-633.4\" font-family=\"Times,serif\" font-size=\"12.00\" fill=\"#000000\"> (512)</text>\n</g>\n<!-- 139926836726024&#45;&gt;139926836725912 -->\n<g id=\"edge56\" class=\"edge\">\n<title>139926836726024&#45;&gt;139926836725912</title>\n<path fill=\"none\" stroke=\"#000000\" d=\"M411.7705,-625.6724C420.306,-616.8616 430.5818,-606.2543 439.1307,-597.4296\"/>\n<polygon fill=\"#000000\" stroke=\"#000000\" points=\"441.6675,-599.8412 446.1117,-590.2234 436.6398,-594.9706 441.6675,-599.8412\"/>\n</g>\n<!-- 139926836726192 -->\n<g id=\"node56\" class=\"node\">\n<title>139926836726192</title>\n<polygon fill=\"#add8e6\" stroke=\"#000000\" points=\"422,-533 329,-533 329,-498 422,-498 422,-533\"/>\n<text text-anchor=\"middle\" x=\"375.5\" y=\"-505.4\" font-family=\"Times,serif\" font-size=\"12.00\" fill=\"#000000\"> (512, 512, 3, 3)</text>\n</g>\n<!-- 139926836726192&#45;&gt;139926832915232 -->\n<g id=\"edge57\" class=\"edge\">\n<title>139926836726192&#45;&gt;139926832915232</title>\n<path fill=\"none\" stroke=\"#000000\" d=\"M403.1854,-497.9494C421.2787,-486.4795 444.7236,-471.6172 462.2964,-460.4773\"/>\n<polygon fill=\"#000000\" stroke=\"#000000\" points=\"464.3192,-463.3391 470.8911,-455.0288 460.5712,-457.4269 464.3192,-463.3391\"/>\n</g>\n<!-- 139926832917808 -->\n<g id=\"node57\" class=\"node\">\n<title>139926832917808</title>\n<polygon fill=\"#add8e6\" stroke=\"#000000\" points=\"318.5,-462 264.5,-462 264.5,-427 318.5,-427 318.5,-462\"/>\n<text text-anchor=\"middle\" x=\"291.5\" y=\"-434.4\" font-family=\"Times,serif\" font-size=\"12.00\" fill=\"#000000\"> (512)</text>\n</g>\n<!-- 139926832917808&#45;&gt;139926832916632 -->\n<g id=\"edge58\" class=\"edge\">\n<title>139926832917808&#45;&gt;139926832916632</title>\n<path fill=\"none\" stroke=\"#000000\" d=\"M318.6135,-431.2859C321.6101,-429.8356 324.6184,-428.384 327.5,-427 349.5736,-416.3983 374.507,-404.5697 393.7002,-395.4957\"/>\n<polygon fill=\"#000000\" stroke=\"#000000\" points=\"395.3485,-398.588 402.8952,-391.1517 392.3584,-392.2588 395.3485,-398.588\"/>\n</g>\n<!-- 139926832918424 -->\n<g id=\"node58\" class=\"node\">\n<title>139926832918424</title>\n<polygon fill=\"#add8e6\" stroke=\"#000000\" points=\"390.5,-462 336.5,-462 336.5,-427 390.5,-427 390.5,-462\"/>\n<text text-anchor=\"middle\" x=\"363.5\" y=\"-434.4\" font-family=\"Times,serif\" font-size=\"12.00\" fill=\"#000000\"> (512)</text>\n</g>\n<!-- 139926832918424&#45;&gt;139926832916632 -->\n<g id=\"edge59\" class=\"edge\">\n<title>139926832918424&#45;&gt;139926832916632</title>\n<path fill=\"none\" stroke=\"#000000\" d=\"M380.7705,-426.6724C389.306,-417.8616 399.5818,-407.2543 408.1307,-398.4296\"/>\n<polygon fill=\"#000000\" stroke=\"#000000\" points=\"410.6675,-400.8412 415.1117,-391.2234 405.6398,-395.9706 410.6675,-400.8412\"/>\n</g>\n<!-- 139926830493648 -->\n<g id=\"node59\" class=\"node\">\n<title>139926830493648</title>\n<polygon fill=\"#d3d3d3\" stroke=\"#000000\" points=\"709,-142 636,-142 636,-121 709,-121 709,-142\"/>\n<text text-anchor=\"middle\" x=\"672.5\" y=\"-128.4\" font-family=\"Times,serif\" font-size=\"12.00\" fill=\"#000000\">TBackward</text>\n</g>\n<!-- 139926830493648&#45;&gt;139926834814648 -->\n<g id=\"edge60\" class=\"edge\">\n<title>139926830493648&#45;&gt;139926834814648</title>\n<path fill=\"none\" stroke=\"#000000\" d=\"M652.5193,-120.9317C632.9024,-110.5558 602.7667,-94.6163 580.512,-82.8452\"/>\n<polygon fill=\"#000000\" stroke=\"#000000\" points=\"581.9865,-79.6657 571.5104,-78.084 578.7136,-85.8535 581.9865,-79.6657\"/>\n</g>\n<!-- 139926830489896 -->\n<g id=\"node60\" class=\"node\">\n<title>139926830489896</title>\n<polygon fill=\"#add8e6\" stroke=\"#000000\" points=\"718,-220 649,-220 649,-185 718,-185 718,-220\"/>\n<text text-anchor=\"middle\" x=\"683.5\" y=\"-192.4\" font-family=\"Times,serif\" font-size=\"12.00\" fill=\"#000000\"> (200, 512)</text>\n</g>\n<!-- 139926830489896&#45;&gt;139926830493648 -->\n<g id=\"edge61\" class=\"edge\">\n<title>139926830489896&#45;&gt;139926830493648</title>\n<path fill=\"none\" stroke=\"#000000\" d=\"M680.7809,-184.9494C679.2321,-174.9527 677.2841,-162.3791 675.6666,-151.9389\"/>\n<polygon fill=\"#000000\" stroke=\"#000000\" points=\"679.1211,-151.375 674.1312,-142.0288 672.2036,-152.4468 679.1211,-151.375\"/>\n</g>\n</g>\n</svg>\n"
          },
          "metadata": {
            "tags": []
          },
          "execution_count": 13
        }
      ]
    },
    {
      "cell_type": "code",
      "metadata": {
        "id": "i5R3qxFTR9Wo",
        "colab_type": "code",
        "outputId": "c6d7efc3-addd-46be-9751-782373cda8d7",
        "colab": {
          "base_uri": "https://localhost:8080/",
          "height": 1000
        }
      },
      "source": [
        "experiment_ocp.run(epochs=50, \n",
        "                    momentum=0.9, \n",
        "                    lr=max_lr, \n",
        "                    regularization=None, \n",
        "                    weight_decay=weight_decay, \n",
        "                    max_lr=max_lr,\n",
        "                    epochs_up=5, \n",
        "                    base_momentum=0.85,\n",
        "                    div_factor=10)"
      ],
      "execution_count": 10,
      "outputs": [
        {
          "output_type": "stream",
          "text": [
            "TRAIN : epoch=0 train_loss=0.08343 correct/total=2239/77000 lr=0.04 accuracy=2.91: 100%|██████████| 1204/1204 [01:55<00:00, 10.47it/s]\n",
            "TEST :  epoch=0 test_loss=4.44171 correct/total=2517/33000 accuracy=\u001b[1m7.63\u001b[0m: 100%|██████████| 516/516 [00:17<00:00, 29.43it/s]\n",
            "TRAIN : epoch=1 train_loss=0.06432 correct/total=9574/77000 lr=0.06 accuracy=12.43: 100%|██████████| 1204/1204 [01:54<00:00, 10.51it/s]\n",
            "TEST :  epoch=1 test_loss=3.80527 correct/total=5551/33000 accuracy=\u001b[1m16.82\u001b[0m: 100%|██████████| 516/516 [00:17<00:00, 30.22it/s]\n",
            "TRAIN : epoch=2 train_loss=0.05632 correct/total=15423/77000 lr=0.08 accuracy=20.03: 100%|██████████| 1204/1204 [01:54<00:00, 10.49it/s]\n",
            "TEST :  epoch=2 test_loss=4.41970 correct/total=4473/33000 accuracy=\u001b[1m13.55\u001b[0m: 100%|██████████| 516/516 [00:16<00:00, 30.36it/s]\n",
            "TRAIN : epoch=3 train_loss=0.05130 correct/total=19808/77000 lr=0.10 accuracy=25.72: 100%|██████████| 1204/1204 [01:54<00:00, 10.49it/s]\n",
            "TEST :  epoch=3 test_loss=3.20312 correct/total=9029/33000 accuracy=\u001b[1m27.36\u001b[0m: 100%|██████████| 516/516 [00:17<00:00, 30.12it/s]\n",
            "TRAIN : epoch=4 train_loss=0.04774 correct/total=22832/77000 lr=0.12 accuracy=29.65: 100%|██████████| 1204/1204 [01:55<00:00, 10.41it/s]\n",
            "TEST :  epoch=4 test_loss=2.98486 correct/total=10305/33000 accuracy=\u001b[1m31.23\u001b[0m: 100%|██████████| 516/516 [00:17<00:00, 30.00it/s]\n",
            "TRAIN : epoch=5 train_loss=0.04517 correct/total=25310/77000 lr=0.12 accuracy=32.87: 100%|██████████| 1204/1204 [01:54<00:00, 10.50it/s]\n",
            "TEST :  epoch=5 test_loss=2.92468 correct/total=10884/33000 accuracy=\u001b[1m32.98\u001b[0m: 100%|██████████| 516/516 [00:17<00:00, 29.96it/s]\n",
            "TRAIN : epoch=6 train_loss=0.04340 correct/total=27217/77000 lr=0.12 accuracy=35.35: 100%|██████████| 1204/1204 [01:54<00:00, 10.49it/s]\n",
            "TEST :  epoch=6 test_loss=3.15411 correct/total=9168/33000 accuracy=\u001b[1m27.78\u001b[0m: 100%|██████████| 516/516 [00:17<00:00, 29.53it/s]\n",
            "TRAIN : epoch=7 train_loss=0.04184 correct/total=28581/77000 lr=0.12 accuracy=37.12: 100%|██████████| 1204/1204 [01:54<00:00, 10.49it/s]\n",
            "TEST :  epoch=7 test_loss=2.68407 correct/total=12631/33000 accuracy=\u001b[1m38.28\u001b[0m: 100%|██████████| 516/516 [00:17<00:00, 30.30it/s]\n",
            "TRAIN : epoch=8 train_loss=0.03894 correct/total=31264/77000 lr=0.11 accuracy=40.60: 100%|██████████| 1204/1204 [01:54<00:00, 10.50it/s]\n",
            "TEST :  epoch=8 test_loss=2.74934 correct/total=12791/33000 accuracy=\u001b[1m38.76\u001b[0m: 100%|██████████| 516/516 [00:17<00:00, 30.24it/s]\n",
            "TRAIN : epoch=9 train_loss=0.03737 correct/total=32797/77000 lr=0.11 accuracy=42.59: 100%|██████████| 1204/1204 [01:54<00:00, 10.53it/s]\n",
            "TEST :  epoch=9 test_loss=2.59429 correct/total=13594/33000 accuracy=\u001b[1m41.19\u001b[0m: 100%|██████████| 516/516 [00:17<00:00, 30.00it/s]\n",
            "TRAIN : epoch=10 train_loss=0.03594 correct/total=34157/77000 lr=0.11 accuracy=44.36: 100%|██████████| 1204/1204 [01:54<00:00, 10.54it/s]\n",
            "TEST :  epoch=10 test_loss=2.90341 correct/total=11829/33000 accuracy=\u001b[1m35.85\u001b[0m: 100%|██████████| 516/516 [00:16<00:00, 30.39it/s]\n",
            "TRAIN : epoch=11 train_loss=0.03482 correct/total=35269/77000 lr=0.11 accuracy=45.80: 100%|██████████| 1204/1204 [01:54<00:00, 10.51it/s]\n",
            "TEST :  epoch=11 test_loss=2.49942 correct/total=14161/33000 accuracy=\u001b[1m42.91\u001b[0m: 100%|██████████| 516/516 [00:17<00:00, 30.08it/s]\n",
            "TRAIN : epoch=12 train_loss=0.03332 correct/total=36652/77000 lr=0.10 accuracy=47.60: 100%|██████████| 1204/1204 [01:54<00:00, 10.52it/s]\n",
            "TEST :  epoch=12 test_loss=2.67209 correct/total=13935/33000 accuracy=\u001b[1m42.23\u001b[0m: 100%|██████████| 516/516 [00:17<00:00, 30.32it/s]\n",
            "TRAIN : epoch=13 train_loss=0.03215 correct/total=37834/77000 lr=0.10 accuracy=49.14: 100%|██████████| 1204/1204 [01:54<00:00, 10.49it/s]\n",
            "TEST :  epoch=13 test_loss=2.57610 correct/total=13989/33000 accuracy=\u001b[1m42.39\u001b[0m: 100%|██████████| 516/516 [00:17<00:00, 29.57it/s]\n",
            "TRAIN : epoch=14 train_loss=0.03130 correct/total=38844/77000 lr=0.10 accuracy=50.45: 100%|██████████| 1204/1204 [01:55<00:00, 10.46it/s]\n",
            "TEST :  epoch=14 test_loss=2.83832 correct/total=13055/33000 accuracy=\u001b[1m39.56\u001b[0m: 100%|██████████| 516/516 [00:17<00:00, 29.20it/s]\n",
            "TRAIN : epoch=15 train_loss=0.03054 correct/total=39544/77000 lr=0.09 accuracy=51.36: 100%|██████████| 1204/1204 [01:55<00:00, 10.41it/s]\n",
            "TEST :  epoch=15 test_loss=2.61156 correct/total=14564/33000 accuracy=\u001b[1m44.13\u001b[0m: 100%|██████████| 516/516 [00:17<00:00, 29.46it/s]\n",
            "TRAIN : epoch=16 train_loss=0.02930 correct/total=40813/77000 lr=0.09 accuracy=53.00: 100%|██████████| 1204/1204 [01:55<00:00, 10.38it/s]\n",
            "TEST :  epoch=16 test_loss=2.45427 correct/total=14929/33000 accuracy=\u001b[1m45.24\u001b[0m: 100%|██████████| 516/516 [00:17<00:00, 29.77it/s]\n",
            "TRAIN : epoch=17 train_loss=0.02819 correct/total=41824/77000 lr=0.09 accuracy=54.32: 100%|██████████| 1204/1204 [01:54<00:00, 10.52it/s]\n",
            "TEST :  epoch=17 test_loss=2.55984 correct/total=14880/33000 accuracy=\u001b[1m45.09\u001b[0m: 100%|██████████| 516/516 [00:17<00:00, 30.19it/s]\n",
            "TRAIN : epoch=18 train_loss=0.02752 correct/total=42786/77000 lr=0.09 accuracy=55.57: 100%|██████████| 1204/1204 [01:54<00:00, 10.50it/s]\n",
            "TEST :  epoch=18 test_loss=2.47323 correct/total=15212/33000 accuracy=\u001b[1m46.10\u001b[0m: 100%|██████████| 516/516 [00:17<00:00, 29.75it/s]\n",
            "TRAIN : epoch=19 train_loss=0.02636 correct/total=43770/77000 lr=0.08 accuracy=56.84: 100%|██████████| 1204/1204 [01:55<00:00, 10.47it/s]\n",
            "TEST :  epoch=19 test_loss=3.08411 correct/total=13367/33000 accuracy=\u001b[1m40.51\u001b[0m: 100%|██████████| 516/516 [00:17<00:00, 29.85it/s]\n",
            "TRAIN : epoch=20 train_loss=0.02542 correct/total=44872/77000 lr=0.08 accuracy=58.28: 100%|██████████| 1204/1204 [01:54<00:00, 10.54it/s]\n",
            "TEST :  epoch=20 test_loss=2.52326 correct/total=15004/33000 accuracy=\u001b[1m45.47\u001b[0m: 100%|██████████| 516/516 [00:17<00:00, 30.17it/s]\n",
            "TRAIN : epoch=21 train_loss=0.02436 correct/total=45993/77000 lr=0.08 accuracy=59.73: 100%|██████████| 1204/1204 [01:54<00:00, 10.53it/s]\n",
            "TEST :  epoch=21 test_loss=2.65410 correct/total=14907/33000 accuracy=\u001b[1m45.17\u001b[0m: 100%|██████████| 516/516 [00:17<00:00, 30.11it/s]\n",
            "TRAIN : epoch=22 train_loss=0.02353 correct/total=46850/77000 lr=0.07 accuracy=60.84: 100%|██████████| 1204/1204 [01:54<00:00, 10.51it/s]\n",
            "TEST :  epoch=22 test_loss=2.47992 correct/total=15002/33000 accuracy=\u001b[1m45.46\u001b[0m: 100%|██████████| 516/516 [00:16<00:00, 30.37it/s]\n",
            "TRAIN : epoch=23 train_loss=0.02334 correct/total=47183/77000 lr=0.07 accuracy=61.28: 100%|██████████| 1204/1204 [01:53<00:00, 10.56it/s]\n",
            "TEST :  epoch=23 test_loss=2.49146 correct/total=14820/33000 accuracy=\u001b[1m44.91\u001b[0m: 100%|██████████| 516/516 [00:17<00:00, 29.74it/s]\n",
            "TRAIN : epoch=24 train_loss=0.02221 correct/total=48398/77000 lr=0.07 accuracy=62.85: 100%|██████████| 1204/1204 [01:55<00:00, 10.47it/s]\n",
            "TEST :  epoch=24 test_loss=2.57043 correct/total=14998/33000 accuracy=\u001b[1m45.45\u001b[0m: 100%|██████████| 516/516 [00:17<00:00, 29.60it/s]\n",
            "TRAIN : epoch=25 train_loss=0.02106 correct/total=49485/77000 lr=0.07 accuracy=64.27: 100%|██████████| 1204/1204 [01:55<00:00, 10.46it/s]\n",
            "TEST :  epoch=25 test_loss=2.68755 correct/total=15627/33000 accuracy=\u001b[1m47.35\u001b[0m: 100%|██████████| 516/516 [00:17<00:00, 29.33it/s]\n",
            "TRAIN : epoch=26 train_loss=0.02008 correct/total=50705/77000 lr=0.06 accuracy=65.85: 100%|██████████| 1204/1204 [01:55<00:00, 10.41it/s]\n",
            "TEST :  epoch=26 test_loss=2.65475 correct/total=15226/33000 accuracy=\u001b[1m46.14\u001b[0m: 100%|██████████| 516/516 [00:17<00:00, 29.23it/s]\n",
            "TRAIN : epoch=27 train_loss=0.01946 correct/total=51446/77000 lr=0.06 accuracy=66.81: 100%|██████████| 1204/1204 [01:55<00:00, 10.42it/s]\n",
            "TEST :  epoch=27 test_loss=2.69035 correct/total=15630/33000 accuracy=\u001b[1m47.36\u001b[0m: 100%|██████████| 516/516 [00:17<00:00, 29.37it/s]\n",
            "TRAIN : epoch=28 train_loss=0.01868 correct/total=52355/77000 lr=0.06 accuracy=67.99: 100%|██████████| 1204/1204 [01:55<00:00, 10.46it/s]\n",
            "TEST :  epoch=28 test_loss=2.85518 correct/total=15094/33000 accuracy=\u001b[1m45.74\u001b[0m: 100%|██████████| 516/516 [00:17<00:00, 29.70it/s]\n",
            "TRAIN : epoch=29 train_loss=0.01819 correct/total=53084/77000 lr=0.06 accuracy=68.94: 100%|██████████| 1204/1204 [01:55<00:00, 10.46it/s]\n",
            "TEST :  epoch=29 test_loss=2.74666 correct/total=13859/33000 accuracy=\u001b[1m42.00\u001b[0m: 100%|██████████| 516/516 [00:17<00:00, 30.05it/s]\n",
            "TRAIN : epoch=30 train_loss=0.01869 correct/total=52453/77000 lr=0.05 accuracy=68.12: 100%|██████████| 1204/1204 [01:55<00:00, 10.45it/s]\n",
            "TEST :  epoch=30 test_loss=2.81946 correct/total=15312/33000 accuracy=\u001b[1m46.40\u001b[0m: 100%|██████████| 516/516 [00:17<00:00, 29.66it/s]\n",
            "TRAIN : epoch=31 train_loss=0.01693 correct/total=54318/77000 lr=0.05 accuracy=70.54: 100%|██████████| 1204/1204 [01:54<00:00, 10.47it/s]\n",
            "TEST :  epoch=31 test_loss=2.79517 correct/total=15944/33000 accuracy=\u001b[1m48.32\u001b[0m: 100%|██████████| 516/516 [00:17<00:00, 29.73it/s]\n",
            "TRAIN : epoch=32 train_loss=0.01568 correct/total=55804/77000 lr=0.05 accuracy=72.47: 100%|██████████| 1204/1204 [01:54<00:00, 10.47it/s]\n",
            "TEST :  epoch=32 test_loss=2.84113 correct/total=15725/33000 accuracy=\u001b[1m47.65\u001b[0m: 100%|██████████| 516/516 [00:17<00:00, 29.84it/s]\n",
            "TRAIN : epoch=33 train_loss=0.01474 correct/total=56870/77000 lr=0.04 accuracy=73.86: 100%|██████████| 1204/1204 [01:55<00:00, 10.45it/s]\n",
            "TEST :  epoch=33 test_loss=2.76687 correct/total=15543/33000 accuracy=\u001b[1m47.10\u001b[0m: 100%|██████████| 516/516 [00:17<00:00, 29.60it/s]\n",
            "TRAIN : epoch=34 train_loss=0.01456 correct/total=57249/77000 lr=0.04 accuracy=74.35: 100%|██████████| 1204/1204 [01:55<00:00, 10.44it/s]\n",
            "TEST :  epoch=34 test_loss=2.91002 correct/total=15974/33000 accuracy=\u001b[1m48.41\u001b[0m: 100%|██████████| 516/516 [00:17<00:00, 29.35it/s]\n",
            "TRAIN : epoch=35 train_loss=0.01340 correct/total=58429/77000 lr=0.04 accuracy=75.88: 100%|██████████| 1204/1204 [01:55<00:00, 10.40it/s]\n",
            "TEST :  epoch=35 test_loss=2.83791 correct/total=15976/33000 accuracy=\u001b[1m48.41\u001b[0m: 100%|██████████| 516/516 [00:17<00:00, 29.62it/s]\n",
            "TRAIN : epoch=36 train_loss=0.01263 correct/total=59503/77000 lr=0.04 accuracy=77.28: 100%|██████████| 1204/1204 [01:55<00:00, 10.46it/s]\n",
            "TEST :  epoch=36 test_loss=2.89858 correct/total=16159/33000 accuracy=\u001b[1m48.97\u001b[0m: 100%|██████████| 516/516 [00:17<00:00, 29.58it/s]\n",
            "TRAIN : epoch=37 train_loss=0.01190 correct/total=60447/77000 lr=0.03 accuracy=78.50: 100%|██████████| 1204/1204 [01:55<00:00, 10.46it/s]\n",
            "TEST :  epoch=37 test_loss=2.96756 correct/total=15916/33000 accuracy=\u001b[1m48.23\u001b[0m: 100%|██████████| 516/516 [00:17<00:00, 29.70it/s]\n",
            "TRAIN : epoch=38 train_loss=0.01117 correct/total=61291/77000 lr=0.03 accuracy=79.60: 100%|██████████| 1204/1204 [01:55<00:00, 10.47it/s]\n",
            "TEST :  epoch=38 test_loss=2.94758 correct/total=16164/33000 accuracy=\u001b[1m48.98\u001b[0m: 100%|██████████| 516/516 [00:17<00:00, 29.92it/s]\n",
            "TRAIN : epoch=39 train_loss=0.01053 correct/total=62165/77000 lr=0.03 accuracy=80.73: 100%|██████████| 1204/1204 [01:54<00:00, 10.49it/s]\n",
            "TEST :  epoch=39 test_loss=3.00702 correct/total=16098/33000 accuracy=\u001b[1m48.78\u001b[0m: 100%|██████████| 516/516 [00:17<00:00, 29.78it/s]\n",
            "TRAIN : epoch=40 train_loss=0.00983 correct/total=63126/77000 lr=0.02 accuracy=81.98: 100%|██████████| 1204/1204 [01:54<00:00, 10.51it/s]\n",
            "TEST :  epoch=40 test_loss=3.00804 correct/total=16145/33000 accuracy=\u001b[1m48.92\u001b[0m: 100%|██████████| 516/516 [00:17<00:00, 29.57it/s]\n",
            "TRAIN : epoch=41 train_loss=0.00925 correct/total=63789/77000 lr=0.02 accuracy=82.84: 100%|██████████| 1204/1204 [01:55<00:00, 10.46it/s]\n",
            "TEST :  epoch=41 test_loss=3.07832 correct/total=16218/33000 accuracy=\u001b[1m49.15\u001b[0m: 100%|██████████| 516/516 [00:17<00:00, 29.85it/s]\n",
            "TRAIN : epoch=42 train_loss=0.00866 correct/total=64679/77000 lr=0.02 accuracy=84.00: 100%|██████████| 1204/1204 [01:54<00:00, 10.48it/s]\n",
            "TEST :  epoch=42 test_loss=3.02223 correct/total=16399/33000 accuracy=\u001b[1m49.69\u001b[0m: 100%|██████████| 516/516 [00:17<00:00, 29.55it/s]\n",
            "TRAIN : epoch=43 train_loss=0.00823 correct/total=65287/77000 lr=0.02 accuracy=84.79: 100%|██████████| 1204/1204 [01:55<00:00, 10.46it/s]\n",
            "TEST :  epoch=43 test_loss=3.00801 correct/total=16515/33000 accuracy=\u001b[1m50.05\u001b[0m: 100%|██████████| 516/516 [00:17<00:00, 29.84it/s]\n",
            "TRAIN : epoch=44 train_loss=0.00758 correct/total=66131/77000 lr=0.01 accuracy=85.88: 100%|██████████| 1204/1204 [01:55<00:00, 10.47it/s]\n",
            "TEST :  epoch=44 test_loss=3.09605 correct/total=16336/33000 accuracy=\u001b[1m49.50\u001b[0m: 100%|██████████| 516/516 [00:17<00:00, 29.87it/s]\n",
            "TRAIN : epoch=45 train_loss=0.00700 correct/total=66789/77000 lr=0.01 accuracy=86.74: 100%|██████████| 1204/1204 [01:55<00:00, 10.46it/s]\n",
            "TEST :  epoch=45 test_loss=3.15904 correct/total=16536/33000 accuracy=\u001b[1m50.11\u001b[0m: 100%|██████████| 516/516 [00:17<00:00, 29.56it/s]\n",
            "TRAIN : epoch=46 train_loss=0.00670 correct/total=67375/77000 lr=0.01 accuracy=87.50: 100%|██████████| 1204/1204 [01:55<00:00, 10.45it/s]\n",
            "TEST :  epoch=46 test_loss=3.12729 correct/total=16601/33000 accuracy=\u001b[1m50.31\u001b[0m: 100%|██████████| 516/516 [00:17<00:00, 29.96it/s]\n",
            "TRAIN : epoch=47 train_loss=0.00618 correct/total=68054/77000 lr=0.01 accuracy=88.38: 100%|██████████| 1204/1204 [01:54<00:00, 10.48it/s]\n",
            "TEST :  epoch=47 test_loss=3.15112 correct/total=16603/33000 accuracy=\u001b[1m50.31\u001b[0m: 100%|██████████| 516/516 [00:17<00:00, 29.94it/s]\n",
            "TRAIN : epoch=48 train_loss=0.00599 correct/total=68403/77000 lr=0.00 accuracy=88.84: 100%|██████████| 1204/1204 [01:55<00:00, 10.47it/s]\n",
            "TEST :  epoch=48 test_loss=3.15447 correct/total=16611/33000 accuracy=\u001b[1m50.34\u001b[0m: 100%|██████████| 516/516 [00:17<00:00, 29.26it/s]\n",
            "TRAIN : epoch=49 train_loss=0.00558 correct/total=68993/77000 lr=-0.00 accuracy=89.60: 100%|██████████| 1204/1204 [01:54<00:00, 10.47it/s]\n",
            "TEST :  epoch=49 test_loss=3.12651 correct/total=16684/33000 accuracy=\u001b[1m50.56\u001b[0m: 100%|██████████| 516/516 [00:17<00:00, 29.78it/s]\n"
          ],
          "name": "stderr"
        }
      ]
    },
    {
      "cell_type": "code",
      "metadata": {
        "id": "eX8gWXfNSZGp",
        "colab_type": "code",
        "outputId": "60d7376c-5cc0-4550-fddb-f15be8c8015d",
        "colab": {
          "base_uri": "https://localhost:8080/",
          "height": 350
        }
      },
      "source": [
        "experiment_ocp.load_summary()\n",
        "experiment_ocp.plot_metric(ylim=[0, 100])"
      ],
      "execution_count": 16,
      "outputs": [
        {
          "output_type": "display_data",
          "data": {
            "image/png": "[encoded data removed]",
            "text/plain": [
              "<Figure size 1080x360 with 1 Axes>"
            ]
          },
          "metadata": {
            "tags": [],
            "needs_background": "light"
          }
        }
      ]
    },
    {
      "cell_type": "markdown",
      "metadata": {
        "colab_type": "text",
        "id": "HOhBngB_S4Ov"
      },
      "source": [
        "# Result\n",
        "| Metric | Value |\n",
        "| - | - |\n",
        "| _Best train accuracy_| **89.60** |\n",
        "| _Best test accuracy_| **50.56** |\n",
        "| _Best epoch number_| **50** |\n",
        "| _Parameter count_ | **6,670,600** |"
      ]
    }
  ]
}